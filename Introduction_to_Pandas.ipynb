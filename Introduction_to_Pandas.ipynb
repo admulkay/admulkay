{
  "nbformat": 4,
  "nbformat_minor": 0,
  "metadata": {
    "colab": {
      "provenance": [],
      "authorship_tag": "ABX9TyOjgqG7qNgRxuPqKBG+mlBD",
      "include_colab_link": true
    },
    "kernelspec": {
      "name": "python3",
      "display_name": "Python 3"
    },
    "language_info": {
      "name": "python"
    }
  },
  "cells": [
    {
      "cell_type": "markdown",
      "metadata": {
        "id": "view-in-github",
        "colab_type": "text"
      },
      "source": [
        "<a href=\"https://colab.research.google.com/github/admulkay/admulkay/blob/main/Introduction_to_Pandas.ipynb\" target=\"_parent\"><img src=\"https://colab.research.google.com/assets/colab-badge.svg\" alt=\"Open In Colab\"/></a>"
      ]
    },
    {
      "cell_type": "code",
      "execution_count": 8,
      "metadata": {
        "id": "u-eNHv3950Id"
      },
      "outputs": [],
      "source": [
        "#Ways of creating a Pandas DataFrame\n",
        "#Passing in a dictionary:\n",
        "import pandas as pd\n",
        "data = {'name':['Anthony', 'Maria'], \n",
        "      'age':[30, 28]}\n",
        "df = pd.DataFrame(data)"
      ]
    },
    {
      "cell_type": "code",
      "source": [
        "#PASSING IN A LIST OF LISTS:\n",
        "data = [['Tom', 20], ['Jack', 30], ['Meera', 25]]\n",
        "df = pd.DataFrame(data, columns= ['Name', 'Age'])"
      ],
      "metadata": {
        "id": "WGN02mkLHmC7"
      },
      "execution_count": 9,
      "outputs": []
    },
    {
      "cell_type": "code",
      "source": [
        "#Reading data from a csv file:, am\n",
        "df = pd.read_csv('students.csv')"
      ],
      "metadata": {
        "id": "n6O9-quwIZD_"
      },
      "execution_count": null,
      "outputs": []
    },
    {
      "cell_type": "code",
      "source": [
        "#This function doubles the input value \n",
        "def double(x):\n",
        "  return 2*x"
      ],
      "metadata": {
        "id": "sDIvcpDKJDJ-"
      },
      "execution_count": 11,
      "outputs": []
    },
    {
      "cell_type": "code",
      "source": [
        "#Apply the function to double every value in a specified column\n",
        "df.column1 = df.column1.apply(double)"
      ],
      "metadata": {
        "id": "AGoRX3sIJTpe"
      },
      "execution_count": null,
      "outputs": []
    },
    {
      "cell_type": "code",
      "source": [
        "# Lambda functions can also be supplied to `apply()`\n",
        "df.column2 = df.column2.apply(lambda x : 3*x)"
      ],
      "metadata": {
        "id": "ldGHCo4ZJoF9"
      },
      "execution_count": null,
      "outputs": []
    },
    {
      "cell_type": "code",
      "source": [
        "# Applying to a row requires it to be called on the entire DataFrame\n",
        "df['newColumn'] = df.apply(lambda row: \n",
        "  row['column1'] * 1.5 + row['column2'],\n",
        "  axis=1\n",
        ")"
      ],
      "metadata": {
        "id": "TJDLmi9CMuam"
      },
      "execution_count": null,
      "outputs": []
    },
    {
      "cell_type": "code",
      "source": [
        "# Specifying each value in the new column:\n",
        "df['newColumn'] = [1, 2, 3, 4]\n",
        "\n",
        "# Setting each row in the new column to the same value:\n",
        "df['newColumn'] = 1\n",
        "\n",
        "# Creating a new column by doing a \n",
        "# calculation on an existing column:\n",
        "df['newColumn'] = df['oldColumn'] * 5"
      ],
      "metadata": {
        "id": "hB9HsZdoM_bK"
      },
      "execution_count": null,
      "outputs": []
    }
  ]
}
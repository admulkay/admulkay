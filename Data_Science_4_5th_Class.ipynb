{
  "nbformat": 4,
  "nbformat_minor": 0,
  "metadata": {
    "colab": {
      "provenance": [],
      "authorship_tag": "ABX9TyPywG+f326OSI5TEc0DxYVM",
      "include_colab_link": true
    },
    "kernelspec": {
      "name": "python3",
      "display_name": "Python 3"
    },
    "language_info": {
      "name": "python"
    }
  },
  "cells": [
    {
      "cell_type": "markdown",
      "metadata": {
        "id": "view-in-github",
        "colab_type": "text"
      },
      "source": [
        "<a href=\"https://colab.research.google.com/github/admulkay/admulkay/blob/main/Data_Science_4_5th_Class.ipynb\" target=\"_parent\"><img src=\"https://colab.research.google.com/assets/colab-badge.svg\" alt=\"Open In Colab\"/></a>"
      ]
    },
    {
      "cell_type": "code",
      "execution_count": null,
      "metadata": {
        "id": "PyQFdD7PHu2C"
      },
      "outputs": [],
      "source": [
        "#import the libraries\n",
        "import pandas as pd #this will be used for data cleaning and importing the data files\n",
        "import matplotlib.pyplot as plt #this will be used for visualisation\n",
        "import numpy as np #this is used for matrix"
      ]
    },
    {
      "cell_type": "code",
      "source": [
        "from google.colab import drive\n",
        "drive.mount('/content/drive')"
      ],
      "metadata": {
        "colab": {
          "base_uri": "https://localhost:8080/"
        },
        "id": "EdF-qRlsIlmH",
        "outputId": "18bf3556-767a-4a3c-ee51-4808d870576c"
      },
      "execution_count": null,
      "outputs": [
        {
          "output_type": "stream",
          "name": "stdout",
          "text": [
            "Mounted at /content/drive\n"
          ]
        }
      ]
    },
    {
      "cell_type": "code",
      "source": [
        "#load the data file\n",
        "path= '/content/drive/MyDrive/Salary_Data.csv'"
      ],
      "metadata": {
        "id": "jBKQYe32In5M"
      },
      "execution_count": null,
      "outputs": []
    },
    {
      "cell_type": "code",
      "source": [
        "#we create a dataframe loading the files\n",
        "df=pd.read_csv('/content/drive/MyDrive/Salary_Data.csv')"
      ],
      "metadata": {
        "id": "u1t2noLdIrQw"
      },
      "execution_count": null,
      "outputs": []
    },
    {
      "cell_type": "code",
      "source": [
        "#to see the record\n",
        "df.head()"
      ],
      "metadata": {
        "colab": {
          "base_uri": "https://localhost:8080/",
          "height": 206
        },
        "id": "XSzzJM-JIvtc",
        "outputId": "9a0a037c-9334-4c98-f857-4fe6843aaf93"
      },
      "execution_count": null,
      "outputs": [
        {
          "output_type": "execute_result",
          "data": {
            "text/plain": [
              "   YearsExperience   Salary\n",
              "0              1.1  39343.0\n",
              "1              1.3  46205.0\n",
              "2              1.5  37731.0\n",
              "3              2.0  43525.0\n",
              "4              2.2  39891.0"
            ],
            "text/html": [
              "\n",
              "  <div id=\"df-f757d3ed-6511-4b13-a63b-0a946be749df\">\n",
              "    <div class=\"colab-df-container\">\n",
              "      <div>\n",
              "<style scoped>\n",
              "    .dataframe tbody tr th:only-of-type {\n",
              "        vertical-align: middle;\n",
              "    }\n",
              "\n",
              "    .dataframe tbody tr th {\n",
              "        vertical-align: top;\n",
              "    }\n",
              "\n",
              "    .dataframe thead th {\n",
              "        text-align: right;\n",
              "    }\n",
              "</style>\n",
              "<table border=\"1\" class=\"dataframe\">\n",
              "  <thead>\n",
              "    <tr style=\"text-align: right;\">\n",
              "      <th></th>\n",
              "      <th>YearsExperience</th>\n",
              "      <th>Salary</th>\n",
              "    </tr>\n",
              "  </thead>\n",
              "  <tbody>\n",
              "    <tr>\n",
              "      <th>0</th>\n",
              "      <td>1.1</td>\n",
              "      <td>39343.0</td>\n",
              "    </tr>\n",
              "    <tr>\n",
              "      <th>1</th>\n",
              "      <td>1.3</td>\n",
              "      <td>46205.0</td>\n",
              "    </tr>\n",
              "    <tr>\n",
              "      <th>2</th>\n",
              "      <td>1.5</td>\n",
              "      <td>37731.0</td>\n",
              "    </tr>\n",
              "    <tr>\n",
              "      <th>3</th>\n",
              "      <td>2.0</td>\n",
              "      <td>43525.0</td>\n",
              "    </tr>\n",
              "    <tr>\n",
              "      <th>4</th>\n",
              "      <td>2.2</td>\n",
              "      <td>39891.0</td>\n",
              "    </tr>\n",
              "  </tbody>\n",
              "</table>\n",
              "</div>\n",
              "      <button class=\"colab-df-convert\" onclick=\"convertToInteractive('df-f757d3ed-6511-4b13-a63b-0a946be749df')\"\n",
              "              title=\"Convert this dataframe to an interactive table.\"\n",
              "              style=\"display:none;\">\n",
              "        \n",
              "  <svg xmlns=\"http://www.w3.org/2000/svg\" height=\"24px\"viewBox=\"0 0 24 24\"\n",
              "       width=\"24px\">\n",
              "    <path d=\"M0 0h24v24H0V0z\" fill=\"none\"/>\n",
              "    <path d=\"M18.56 5.44l.94 2.06.94-2.06 2.06-.94-2.06-.94-.94-2.06-.94 2.06-2.06.94zm-11 1L8.5 8.5l.94-2.06 2.06-.94-2.06-.94L8.5 2.5l-.94 2.06-2.06.94zm10 10l.94 2.06.94-2.06 2.06-.94-2.06-.94-.94-2.06-.94 2.06-2.06.94z\"/><path d=\"M17.41 7.96l-1.37-1.37c-.4-.4-.92-.59-1.43-.59-.52 0-1.04.2-1.43.59L10.3 9.45l-7.72 7.72c-.78.78-.78 2.05 0 2.83L4 21.41c.39.39.9.59 1.41.59.51 0 1.02-.2 1.41-.59l7.78-7.78 2.81-2.81c.8-.78.8-2.07 0-2.86zM5.41 20L4 18.59l7.72-7.72 1.47 1.35L5.41 20z\"/>\n",
              "  </svg>\n",
              "      </button>\n",
              "      \n",
              "  <style>\n",
              "    .colab-df-container {\n",
              "      display:flex;\n",
              "      flex-wrap:wrap;\n",
              "      gap: 12px;\n",
              "    }\n",
              "\n",
              "    .colab-df-convert {\n",
              "      background-color: #E8F0FE;\n",
              "      border: none;\n",
              "      border-radius: 50%;\n",
              "      cursor: pointer;\n",
              "      display: none;\n",
              "      fill: #1967D2;\n",
              "      height: 32px;\n",
              "      padding: 0 0 0 0;\n",
              "      width: 32px;\n",
              "    }\n",
              "\n",
              "    .colab-df-convert:hover {\n",
              "      background-color: #E2EBFA;\n",
              "      box-shadow: 0px 1px 2px rgba(60, 64, 67, 0.3), 0px 1px 3px 1px rgba(60, 64, 67, 0.15);\n",
              "      fill: #174EA6;\n",
              "    }\n",
              "\n",
              "    [theme=dark] .colab-df-convert {\n",
              "      background-color: #3B4455;\n",
              "      fill: #D2E3FC;\n",
              "    }\n",
              "\n",
              "    [theme=dark] .colab-df-convert:hover {\n",
              "      background-color: #434B5C;\n",
              "      box-shadow: 0px 1px 3px 1px rgba(0, 0, 0, 0.15);\n",
              "      filter: drop-shadow(0px 1px 2px rgba(0, 0, 0, 0.3));\n",
              "      fill: #FFFFFF;\n",
              "    }\n",
              "  </style>\n",
              "\n",
              "      <script>\n",
              "        const buttonEl =\n",
              "          document.querySelector('#df-f757d3ed-6511-4b13-a63b-0a946be749df button.colab-df-convert');\n",
              "        buttonEl.style.display =\n",
              "          google.colab.kernel.accessAllowed ? 'block' : 'none';\n",
              "\n",
              "        async function convertToInteractive(key) {\n",
              "          const element = document.querySelector('#df-f757d3ed-6511-4b13-a63b-0a946be749df');\n",
              "          const dataTable =\n",
              "            await google.colab.kernel.invokeFunction('convertToInteractive',\n",
              "                                                     [key], {});\n",
              "          if (!dataTable) return;\n",
              "\n",
              "          const docLinkHtml = 'Like what you see? Visit the ' +\n",
              "            '<a target=\"_blank\" href=https://colab.research.google.com/notebooks/data_table.ipynb>data table notebook</a>'\n",
              "            + ' to learn more about interactive tables.';\n",
              "          element.innerHTML = '';\n",
              "          dataTable['output_type'] = 'display_data';\n",
              "          await google.colab.output.renderOutput(dataTable, element);\n",
              "          const docLink = document.createElement('div');\n",
              "          docLink.innerHTML = docLinkHtml;\n",
              "          element.appendChild(docLink);\n",
              "        }\n",
              "      </script>\n",
              "    </div>\n",
              "  </div>\n",
              "  "
            ]
          },
          "metadata": {},
          "execution_count": 6
        }
      ]
    },
    {
      "cell_type": "code",
      "source": [
        "print(df.sample(10))"
      ],
      "metadata": {
        "colab": {
          "base_uri": "https://localhost:8080/"
        },
        "id": "Qi9BYCQKIybP",
        "outputId": "41cfa7f5-0f4f-4cd2-b076-020bffc0cdf4"
      },
      "execution_count": null,
      "outputs": [
        {
          "output_type": "stream",
          "name": "stdout",
          "text": [
            "    YearsExperience    Salary\n",
            "8               3.2   64445.0\n",
            "25              9.0  105582.0\n",
            "5               2.9   56642.0\n",
            "27              9.6  112635.0\n",
            "11              4.0   55794.0\n",
            "19              6.0   93940.0\n",
            "22              7.9  101302.0\n",
            "14              4.5   61111.0\n",
            "24              8.7  109431.0\n",
            "1               1.3   46205.0\n"
          ]
        }
      ]
    },
    {
      "cell_type": "code",
      "source": [
        "print(df.sample(10))\n",
        "print('\\n\\n')\n",
        "print('----- Features in the dataset ----')\n",
        "print(df.columns)\n",
        "print('\\n\\n')\n",
        "print('---- Shape of the dataset -----')\n",
        "print(df.shape)"
      ],
      "metadata": {
        "colab": {
          "base_uri": "https://localhost:8080/"
        },
        "id": "M7o_s7IyI1w2",
        "outputId": "06d5efee-3de2-4260-f397-273291e3d78d"
      },
      "execution_count": null,
      "outputs": [
        {
          "output_type": "stream",
          "name": "stdout",
          "text": [
            "    YearsExperience    Salary\n",
            "28             10.3  122391.0\n",
            "0               1.1   39343.0\n",
            "9               3.7   57189.0\n",
            "17              5.3   83088.0\n",
            "24              8.7  109431.0\n",
            "14              4.5   61111.0\n",
            "10              3.9   63218.0\n",
            "19              6.0   93940.0\n",
            "5               2.9   56642.0\n",
            "16              5.1   66029.0\n",
            "\n",
            "\n",
            "\n",
            "----- Features in the dataset ----\n",
            "Index(['YearsExperience', 'Salary'], dtype='object')\n",
            "\n",
            "\n",
            "\n",
            "---- Shape of the dataset -----\n",
            "(30, 2)\n"
          ]
        }
      ]
    },
    {
      "cell_type": "code",
      "source": [
        "# Check for null values\n",
        "df.isnull().sum()"
      ],
      "metadata": {
        "colab": {
          "base_uri": "https://localhost:8080/"
        },
        "id": "Ez2aUuPaI6vE",
        "outputId": "1a592a94-baf1-4ed4-9b1d-aacc7fd73469"
      },
      "execution_count": null,
      "outputs": [
        {
          "output_type": "execute_result",
          "data": {
            "text/plain": [
              "YearsExperience    0\n",
              "Salary             0\n",
              "dtype: int64"
            ]
          },
          "metadata": {},
          "execution_count": 9
        }
      ]
    },
    {
      "cell_type": "code",
      "source": [
        "# Converting dataset to dependent and independant vectors# YearsExperience\n",
        "X = df.iloc[:, :-1].values# Salary\n",
        "y = df.iloc[:, 1].values"
      ],
      "metadata": {
        "id": "qsqaniDMI9l_"
      },
      "execution_count": null,
      "outputs": []
    },
    {
      "cell_type": "code",
      "source": [
        "# Splitting the dataset into testing and training sets\n",
        "from sklearn.model_selection import train_test_split\n",
        "X_train, X_test, y_train, y_test = train_test_split(X, y, test_size=0.2, random_state=42)"
      ],
      "metadata": {
        "id": "fyFMVrMHJAo4"
      },
      "execution_count": null,
      "outputs": []
    },
    {
      "cell_type": "code",
      "source": [
        "# Dimensions of datset after splitting into testing and training set'sprint(X_train.shape)\n",
        "print(X_test.shape)\n",
        "print(y_train.shape)\n",
        "print(y_test.shape)"
      ],
      "metadata": {
        "colab": {
          "base_uri": "https://localhost:8080/"
        },
        "id": "Qls9Ncu_JHHy",
        "outputId": "40f74b30-525d-4b93-c24e-9098980cd176"
      },
      "execution_count": null,
      "outputs": [
        {
          "output_type": "stream",
          "name": "stdout",
          "text": [
            "(6, 1)\n",
            "(24,)\n",
            "(6,)\n"
          ]
        }
      ]
    },
    {
      "cell_type": "code",
      "source": [
        "Xm = np.mean (X_train)\n",
        "Ym = np.mean(y_train)\n",
        "sum1 = 0\n",
        "sum2 = 0\n",
        "print('Experience Salary, d=Xi-Xm, e=Yi-Ym, d*e, e*e')\n",
        "print('------------------------------------------------------------------------------------------------')\n",
        "for pos in range(0, len(X_train)):\n",
        "    d = (X_train[pos] - Xm)\n",
        "    e = (y_train[pos] - Ym)\n",
        "    sum1 = sum1 + d*e\n",
        "    sum2 = sum2 = d*d\n",
        "    print(f'{str(X_train[pos]):{10}} {str(y_train[pos]):{10}} {str(X_train[pos]-Xm):{20}} {str(y_train[pos]-Ym):20} {str(d*e):{20}} {str(d*d):{20}}')"
      ],
      "metadata": {
        "id": "p17AYOuK9ZU1",
        "colab": {
          "base_uri": "https://localhost:8080/"
        },
        "outputId": "83187a0a-7510-410a-8945-8291d259b943"
      },
      "execution_count": null,
      "outputs": [
        {
          "output_type": "stream",
          "name": "stdout",
          "text": [
            "Experience Salary, d=Xi-Xm, e=Yi-Ym, d*e, e*e\n",
            "------------------------------------------------------------------------------------------------\n",
            "[10.3]     122391.0   [5.1125]             48183.375            [246337.5046875]     [26.13765625]       \n",
            "[8.7]      109431.0   [3.5125]             35223.375            [123722.1046875]     [12.33765625]       \n",
            "[4.]       56957.0    [-1.1875]            -17250.625           [20485.1171875]      [1.41015625]        \n",
            "[1.1]      39343.0    [-4.0875]            -34864.625           [142509.1546875]     [16.70765625]       \n",
            "[2.2]      39891.0    [-2.9875]            -34316.625           [102520.9171875]     [8.92515625]        \n",
            "[5.1]      66029.0    [-0.0875]            -8178.625            [715.6296875]        [0.00765625]        \n",
            "[2.9]      56642.0    [-2.2875]            -17565.625           [40181.3671875]      [5.23265625]        \n",
            "[4.1]      57081.0    [-1.0875]            -17126.625           [18625.2046875]      [1.18265625]        \n",
            "[4.]       55794.0    [-1.1875]            -18413.625           [21866.1796875]      [1.41015625]        \n",
            "[7.9]      101302.0   [2.7125]             27094.375            [73493.4921875]      [7.35765625]        \n",
            "[1.3]      46205.0    [-3.8875]            -28002.625           [108860.2046875]     [15.11265625]       \n",
            "[1.5]      37731.0    [-3.6875]            -36476.625           [134507.5546875]     [13.59765625]       \n",
            "[9.]       105582.0   [3.8125]             31374.375            [119614.8046875]     [14.53515625]       \n",
            "[2.]       43525.0    [-3.1875]            -30682.625           [97800.8671875]      [10.16015625]       \n",
            "[7.1]      98273.0    [1.9125]             24065.375            [46025.0296875]      [3.65765625]        \n",
            "[9.5]      116969.0   [4.3125]             42761.375            [184408.4296875]     [18.59765625]       \n",
            "[5.9]      81363.0    [0.7125]             7155.375             [5098.2046875]       [0.50765625]        \n",
            "[10.5]     121872.0   [5.3125]             47664.375            [253216.9921875]     [28.22265625]       \n",
            "[6.8]      91738.0    [1.6125]             17530.375            [28267.7296875]      [2.60015625]        \n",
            "[3.2]      54445.0    [-1.9875]            -19762.625           [39278.2171875]      [3.95015625]        \n",
            "[3.9]      63218.0    [-1.2875]            -10989.625           [14149.1421875]      [1.65765625]        \n",
            "[4.5]      61111.0    [-0.6875]            -13096.625           [9003.9296875]       [0.47265625]        \n",
            "[6.]       93940.0    [0.8125]             19732.375            [16032.5546875]      [0.66015625]        \n",
            "[3.]       60150.0    [-2.1875]            -14057.625           [30751.0546875]      [4.78515625]        \n"
          ]
        }
      ]
    },
    {
      "cell_type": "code",
      "source": [
        "from sklearn.model_selection import train_test_split\n"
      ],
      "metadata": {
        "id": "hxTIiamWJQLD"
      },
      "execution_count": null,
      "outputs": []
    },
    {
      "cell_type": "code",
      "source": [
        "X_train, X_test, y_train, y_test=train_test_split(X,y,test_size=1/3, random_state=1)"
      ],
      "metadata": {
        "id": "w9cQvxn2Ku81"
      },
      "execution_count": null,
      "outputs": []
    },
    {
      "cell_type": "code",
      "source": [
        "#Training the Simple Linear Regression model on the Training set\n",
        "from sklearn.linear_model import LinearRegression\n",
        "#create the object of the LinearRegression\n",
        "regression=LinearRegression()\n",
        "#to start the training we call a function fit(pass the Xtrain and Ytrain data)\n",
        "regression.fit(X_train, y_train)"
      ],
      "metadata": {
        "colab": {
          "base_uri": "https://localhost:8080/"
        },
        "id": "ewp4u0VAK5bB",
        "outputId": "d25b6dbe-fecc-4c4c-83fd-672233cfc6d9"
      },
      "execution_count": null,
      "outputs": [
        {
          "output_type": "execute_result",
          "data": {
            "text/plain": [
              "LinearRegression()"
            ]
          },
          "metadata": {},
          "execution_count": 16
        }
      ]
    },
    {
      "cell_type": "code",
      "source": [
        "#Training the Simple Linear Regression model on the Training set\n",
        "from sklearn.linear_model import LinearRegression\n"
      ],
      "metadata": {
        "id": "ZcmUsN0JNZZr"
      },
      "execution_count": null,
      "outputs": []
    },
    {
      "cell_type": "code",
      "source": [
        "#create the object of the LinearRegression\n",
        "regressor = LinearRegression()\n",
        "regressor.fit(X_train, y_train)\n",
        ""
      ],
      "metadata": {
        "colab": {
          "base_uri": "https://localhost:8080/"
        },
        "id": "CVqcooj_OE8t",
        "outputId": "430a72a6-78c7-4c1c-9aa4-7ec7bec85b0c"
      },
      "execution_count": null,
      "outputs": [
        {
          "output_type": "execute_result",
          "data": {
            "text/plain": [
              "LinearRegression()"
            ]
          },
          "metadata": {},
          "execution_count": 18
        }
      ]
    },
    {
      "cell_type": "code",
      "source": [
        "#to start the training we have to call a function fit(pass the Xtrain and Ytrain data)\n",
        "regression.fit(X_train, y_train)"
      ],
      "metadata": {
        "colab": {
          "base_uri": "https://localhost:8080/"
        },
        "id": "tGnW9gswOzWz",
        "outputId": "36d5d0b0-3c81-4498-ae67-1b0fd6c0c9e9"
      },
      "execution_count": null,
      "outputs": [
        {
          "output_type": "execute_result",
          "data": {
            "text/plain": [
              "LinearRegression()"
            ]
          },
          "metadata": {},
          "execution_count": 19
        }
      ]
    },
    {
      "cell_type": "code",
      "source": [
        "#Predicting the value\n",
        "regression.predict(X_test)"
      ],
      "metadata": {
        "colab": {
          "base_uri": "https://localhost:8080/"
        },
        "id": "Wf0mNyanL1Gg",
        "outputId": "dcd90502-7288-4017-98ba-3bc8a7259fd9"
      },
      "execution_count": null,
      "outputs": [
        {
          "output_type": "execute_result",
          "data": {
            "text/plain": [
              "array([ 74675.37776747,  91160.02832519,  61853.98288925,  81086.07520659,\n",
              "        67348.86640849,  88412.58656557, 113139.56240215,  44453.51841166,\n",
              "       105813.05104316,  98486.53968418])"
            ]
          },
          "metadata": {},
          "execution_count": 20
        }
      ]
    },
    {
      "cell_type": "code",
      "source": [
        "#Predicting the Test set results\n",
        "y_pred = regressor.predict(X_test)"
      ],
      "metadata": {
        "id": "kayEJWvFPusn"
      },
      "execution_count": null,
      "outputs": []
    },
    {
      "cell_type": "code",
      "source": [
        "#print the predicted value\n",
        "y_pred"
      ],
      "metadata": {
        "colab": {
          "base_uri": "https://localhost:8080/"
        },
        "id": "yLTd5NBJQyyx",
        "outputId": "caf56290-0ee9-4657-821a-f35db34d4be9"
      },
      "execution_count": null,
      "outputs": [
        {
          "output_type": "execute_result",
          "data": {
            "text/plain": [
              "array([ 74675.37776747,  91160.02832519,  61853.98288925,  81086.07520659,\n",
              "        67348.86640849,  88412.58656557, 113139.56240215,  44453.51841166,\n",
              "       105813.05104316,  98486.53968418])"
            ]
          },
          "metadata": {},
          "execution_count": 22
        }
      ]
    },
    {
      "cell_type": "code",
      "source": [
        "#print the actual value\n",
        "y_test"
      ],
      "metadata": {
        "colab": {
          "base_uri": "https://localhost:8080/"
        },
        "id": "znNMUMBWRHPu",
        "outputId": "075d1ec9-0b94-4e1b-e868-60effe2b1e6e"
      },
      "execution_count": null,
      "outputs": [
        {
          "output_type": "execute_result",
          "data": {
            "text/plain": [
              "array([ 83088.,  98273.,  63218.,  93940.,  61111.,  91738., 116969.,\n",
              "        43525., 109431., 101302.])"
            ]
          },
          "metadata": {},
          "execution_count": 23
        }
      ]
    },
    {
      "cell_type": "code",
      "source": [
        "#we can visualize the training data\n",
        "plt.scatter(X_train, y_train, color='red')\n",
        "plt.plot(X_train,regression.predict(X_train), color='blue')\n",
        "plt.title(\"Salary vs Experience (Training data Set)\")\n",
        "plt.xlabel(\"Years of Experience\")\n",
        "plt.ylabel(\"Salary\")\n",
        "plt.show()"
      ],
      "metadata": {
        "colab": {
          "base_uri": "https://localhost:8080/",
          "height": 295
        },
        "id": "r9NHDUO1RYaP",
        "outputId": "d582f09b-3d09-472a-fdfd-0c7764dd2229"
      },
      "execution_count": null,
      "outputs": [
        {
          "output_type": "display_data",
          "data": {
            "text/plain": [
              "<Figure size 432x288 with 1 Axes>"
            ],
            "image/png": "[encoded data removed]"
          },
          "metadata": {
            "needs_background": "light"
          }
        }
      ]
    },
    {
      "cell_type": "code",
      "source": [
        "#regression evaluation metrics__have to evaluate 3 things=MAE, MSE, RMSE\n",
        "#these are all loss functions because we want to MINIMIZE them\n",
        "#MAE = Average errpr\n",
        "#MSE = more popular--it punishes larger errors and useful in real world\n",
        "#RMSE = Most popular because RMSE is interpretable in the \"y\" units"
      ],
      "metadata": {
        "id": "jfrzXaKOR62a"
      },
      "execution_count": null,
      "outputs": []
    },
    {
      "cell_type": "markdown",
      "source": [
        "#regression evaluation metrics__have to evaluate 3 things=MAE, MSE, RMSE\n",
        "#these are all loss functions because we want to MINIMIZE them\n",
        "#MAE = Average error\n",
        "#MSE = more popular--it punishes larger errors and useful in real world\n",
        "#RMSE = Most popular because RMSE is interpretable in the \"y\" units"
      ],
      "metadata": {
        "id": "RJHiMTbAdQb2"
      }
    },
    {
      "cell_type": "code",
      "source": [
        "#The Model Metrix\n",
        "from sklearn import metrics\n",
        "print('MAE', metrics.mean_absolute_error(y_test, y_pred))\n",
        "print('MSE', metrics.mean_squared_error(y_test, y_pred))\n",
        "print('RMSE', np.sqrt(metrics.mean_squared_error(y_test, y_pred)))"
      ],
      "metadata": {
        "colab": {
          "base_uri": "https://localhost:8080/"
        },
        "id": "7tQSXwKddr-z",
        "outputId": "2d051339-6b62-482d-aeb5-dbcc295cd1fb"
      },
      "execution_count": null,
      "outputs": [
        {
          "output_type": "stream",
          "name": "stdout",
          "text": [
            "MAE 5049.818093659747\n",
            "MSE 37496296.61879842\n",
            "RMSE 6123.421969683162\n"
          ]
        }
      ]
    },
    {
      "cell_type": "code",
      "source": [
        "#r2Square value of the training\n",
        "print(\"r2 Score  \",metrics.r2_score(X_train,y_train))\n",
        "#r2Square value of the Testing/Prediction\n",
        "print(\"r2 Score of prediction\",metrics.r2_score(y_test,y_pred))"
      ],
      "metadata": {
        "id": "_UGljZPXkbyW",
        "colab": {
          "base_uri": "https://localhost:8080/"
        },
        "outputId": "ba5276af-565e-4701-dbdb-d1ccca17c02d"
      },
      "execution_count": null,
      "outputs": [
        {
          "output_type": "stream",
          "name": "stdout",
          "text": [
            "r2 Score   -662478260.4844966\n",
            "r2 Score of prediction 0.9240850478446321\n"
          ]
        }
      ]
    },
    {
      "cell_type": "code",
      "source": [],
      "metadata": {
        "id": "nYlGvjKVy-ul"
      },
      "execution_count": null,
      "outputs": []
    },
    {
      "cell_type": "code",
      "source": [
        "regression_OLS = sml.OLS(endog = y,exog= X_new).fit()\n",
        "from statsmodels import tools"
      ],
      "metadata": {
        "id": "59rrc4taBkk7",
        "colab": {
          "base_uri": "https://localhost:8080/",
          "height": 183
        },
        "outputId": "b8d8dfc6-bdf0-4b61-d3b0-5fffab918c17"
      },
      "execution_count": null,
      "outputs": [
        {
          "output_type": "error",
          "ename": "NameError",
          "evalue": "ignored",
          "traceback": [
            "\u001b[0;31m---------------------------------------------------------------------------\u001b[0m",
            "\u001b[0;31mNameError\u001b[0m                                 Traceback (most recent call last)",
            "\u001b[0;32m<ipython-input-28-092b4c11174b>\u001b[0m in \u001b[0;36m<module>\u001b[0;34m\u001b[0m\n\u001b[0;32m----> 1\u001b[0;31m \u001b[0mregression_OLS\u001b[0m \u001b[0;34m=\u001b[0m \u001b[0msml\u001b[0m\u001b[0;34m.\u001b[0m\u001b[0mOLS\u001b[0m\u001b[0;34m(\u001b[0m\u001b[0mendog\u001b[0m \u001b[0;34m=\u001b[0m \u001b[0my\u001b[0m\u001b[0;34m,\u001b[0m\u001b[0mexog\u001b[0m\u001b[0;34m=\u001b[0m \u001b[0mX_new\u001b[0m\u001b[0;34m)\u001b[0m\u001b[0;34m.\u001b[0m\u001b[0mfit\u001b[0m\u001b[0;34m(\u001b[0m\u001b[0;34m)\u001b[0m\u001b[0;34m\u001b[0m\u001b[0;34m\u001b[0m\u001b[0m\n\u001b[0m\u001b[1;32m      2\u001b[0m \u001b[0;32mfrom\u001b[0m \u001b[0mstatsmodels\u001b[0m \u001b[0;32mimport\u001b[0m \u001b[0mtools\u001b[0m\u001b[0;34m\u001b[0m\u001b[0;34m\u001b[0m\u001b[0m\n",
            "\u001b[0;31mNameError\u001b[0m: name 'sml' is not defined"
          ]
        }
      ]
    },
    {
      "cell_type": "code",
      "source": [
        "#we can also use the OLS.api to train and get the result\n",
        "import statsmodels.api as sml #sml is a nickname\n",
        "#adding the value\n",
        "x_new = sml.add_constant(X)\n",
        "#we start the training\n",
        "regression_OLS = sml.OLS(endog = y,exog= x_new).fit() #endog means that is what we have to pass the y value- what we want to predict #exog means this one will take the x coordinates\n",
        "#Summary gives me the entire details of the model\n",
        "regression_OLS.summary()\n",
        "#Because we only have one variable-our x axie, thus the adjusted R square and R square do not make any sense--no difference over there. But the actual difference is that R squared is biased. Adjusted R squared is not biased.\n",
        "#A good model = the value of R squared should be nearer to 1.\n",
        "#When we add a new variable the adjusted R square will increase\n",
        "#If I decrease the variable, then adjusted re square will decrease\n",
        "#So that particular variable is important\n",
        "#Our square will increase only if variable cantains certain weightage that means my variable is helping in prediction. Instead of checking R squared value, we use adjusted R squared value.\n",
        "#CHECK Adjusted R squared value and p value to determine if its a good model\n"
      ],
      "metadata": {
        "id": "EAck_nbACf3-",
        "colab": {
          "base_uri": "https://localhost:8080/",
          "height": 452
        },
        "outputId": "38bbeb19-6bba-4219-b3ef-b18273c4a280"
      },
      "execution_count": null,
      "outputs": [
        {
          "output_type": "execute_result",
          "data": {
            "text/plain": [
              "<class 'statsmodels.iolib.summary.Summary'>\n",
              "\"\"\"\n",
              "                            OLS Regression Results                            \n",
              "==============================================================================\n",
              "Dep. Variable:                      y   R-squared:                       0.957\n",
              "Model:                            OLS   Adj. R-squared:                  0.955\n",
              "Method:                 Least Squares   F-statistic:                     622.5\n",
              "Date:                Thu, 01 Dec 2022   Prob (F-statistic):           1.14e-20\n",
              "Time:                        22:32:52   Log-Likelihood:                -301.44\n",
              "No. Observations:                  30   AIC:                             606.9\n",
              "Df Residuals:                      28   BIC:                             609.7\n",
              "Df Model:                           1                                         \n",
              "Covariance Type:            nonrobust                                         \n",
              "==============================================================================\n",
              "                 coef    std err          t      P>|t|      [0.025      0.975]\n",
              "------------------------------------------------------------------------------\n",
              "const       2.579e+04   2273.053     11.347      0.000    2.11e+04    3.04e+04\n",
              "x1          9449.9623    378.755     24.950      0.000    8674.119    1.02e+04\n",
              "==============================================================================\n",
              "Omnibus:                        2.140   Durbin-Watson:                   1.648\n",
              "Prob(Omnibus):                  0.343   Jarque-Bera (JB):                1.569\n",
              "Skew:                           0.363   Prob(JB):                        0.456\n",
              "Kurtosis:                       2.147   Cond. No.                         13.2\n",
              "==============================================================================\n",
              "\n",
              "Notes:\n",
              "[1] Standard Errors assume that the covariance matrix of the errors is correctly specified.\n",
              "\"\"\""
            ],
            "text/html": [
              "<table class=\"simpletable\">\n",
              "<caption>OLS Regression Results</caption>\n",
              "<tr>\n",
              "  <th>Dep. Variable:</th>            <td>y</td>        <th>  R-squared:         </th> <td>   0.957</td>\n",
              "</tr>\n",
              "<tr>\n",
              "  <th>Model:</th>                   <td>OLS</td>       <th>  Adj. R-squared:    </th> <td>   0.955</td>\n",
              "</tr>\n",
              "<tr>\n",
              "  <th>Method:</th>             <td>Least Squares</td>  <th>  F-statistic:       </th> <td>   622.5</td>\n",
              "</tr>\n",
              "<tr>\n",
              "  <th>Date:</th>             <td>Thu, 01 Dec 2022</td> <th>  Prob (F-statistic):</th> <td>1.14e-20</td>\n",
              "</tr>\n",
              "<tr>\n",
              "  <th>Time:</th>                 <td>22:32:52</td>     <th>  Log-Likelihood:    </th> <td> -301.44</td>\n",
              "</tr>\n",
              "<tr>\n",
              "  <th>No. Observations:</th>      <td>    30</td>      <th>  AIC:               </th> <td>   606.9</td>\n",
              "</tr>\n",
              "<tr>\n",
              "  <th>Df Residuals:</th>          <td>    28</td>      <th>  BIC:               </th> <td>   609.7</td>\n",
              "</tr>\n",
              "<tr>\n",
              "  <th>Df Model:</th>              <td>     1</td>      <th>                     </th>     <td> </td>   \n",
              "</tr>\n",
              "<tr>\n",
              "  <th>Covariance Type:</th>      <td>nonrobust</td>    <th>                     </th>     <td> </td>   \n",
              "</tr>\n",
              "</table>\n",
              "<table class=\"simpletable\">\n",
              "<tr>\n",
              "    <td></td>       <th>coef</th>     <th>std err</th>      <th>t</th>      <th>P>|t|</th>  <th>[0.025</th>    <th>0.975]</th>  \n",
              "</tr>\n",
              "<tr>\n",
              "  <th>const</th> <td> 2.579e+04</td> <td> 2273.053</td> <td>   11.347</td> <td> 0.000</td> <td> 2.11e+04</td> <td> 3.04e+04</td>\n",
              "</tr>\n",
              "<tr>\n",
              "  <th>x1</th>    <td> 9449.9623</td> <td>  378.755</td> <td>   24.950</td> <td> 0.000</td> <td> 8674.119</td> <td> 1.02e+04</td>\n",
              "</tr>\n",
              "</table>\n",
              "<table class=\"simpletable\">\n",
              "<tr>\n",
              "  <th>Omnibus:</th>       <td> 2.140</td> <th>  Durbin-Watson:     </th> <td>   1.648</td>\n",
              "</tr>\n",
              "<tr>\n",
              "  <th>Prob(Omnibus):</th> <td> 0.343</td> <th>  Jarque-Bera (JB):  </th> <td>   1.569</td>\n",
              "</tr>\n",
              "<tr>\n",
              "  <th>Skew:</th>          <td> 0.363</td> <th>  Prob(JB):          </th> <td>   0.456</td>\n",
              "</tr>\n",
              "<tr>\n",
              "  <th>Kurtosis:</th>      <td> 2.147</td> <th>  Cond. No.          </th> <td>    13.2</td>\n",
              "</tr>\n",
              "</table><br/><br/>Notes:<br/>[1] Standard Errors assume that the covariance matrix of the errors is correctly specified."
            ]
          },
          "metadata": {},
          "execution_count": 33
        }
      ]
    },
    {
      "cell_type": "code",
      "source": [
        "#predict\n",
        "predict=regression_OLS.predict([X_test,0])\n",
        "predict\n"
      ],
      "metadata": {
        "colab": {
          "base_uri": "https://localhost:8080/"
        },
        "id": "tEwPSV3PMTBA",
        "outputId": "371d9465-a94e-4a24-c35d-2589be6269c3"
      },
      "execution_count": null,
      "outputs": [
        {
          "output_type": "execute_result",
          "data": {
            "text/plain": [
              "array([array([[136698.66105294],\n",
              "              [183124.62141055],\n",
              "              [100589.58077481],\n",
              "              [154753.20119201],\n",
              "              [116064.90089401],\n",
              "              [175386.96135095],\n",
              "              [245025.90188735],\n",
              "              [ 51584.40039734],\n",
              "              [224392.14172842],\n",
              "              [203758.38156948]])], dtype=object)"
            ]
          },
          "metadata": {},
          "execution_count": 37
        }
      ]
    },
    {
      "cell_type": "markdown",
      "source": [
        "Now work with multilinear regression-> More than one independent variables"
      ],
      "metadata": {
        "id": "PDIiGFnQ4ZUf"
      }
    },
    {
      "cell_type": "code",
      "source": [
        "df2=pd.DataFrame(X_test)"
      ],
      "metadata": {
        "id": "NGDpoONc223d"
      },
      "execution_count": null,
      "outputs": []
    },
    {
      "cell_type": "code",
      "source": [
        "df2['Actual']=y_test"
      ],
      "metadata": {
        "id": "76PAqzLY2-1_"
      },
      "execution_count": null,
      "outputs": []
    },
    {
      "cell_type": "code",
      "source": [
        "df2['predict']=predict[0]"
      ],
      "metadata": {
        "id": "Sck8tFP_3OIn"
      },
      "execution_count": null,
      "outputs": []
    },
    {
      "cell_type": "code",
      "source": [
        "df2['Error']=df2['Actual']-df2['predict']"
      ],
      "metadata": {
        "id": "Z62vE6wI3bGt"
      },
      "execution_count": null,
      "outputs": []
    }
  ]
}
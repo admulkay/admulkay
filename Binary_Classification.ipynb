{
  "nbformat": 4,
  "nbformat_minor": 0,
  "metadata": {
    "colab": {
      "provenance": [],
      "include_colab_link": true
    },
    "kernelspec": {
      "name": "python3",
      "display_name": "Python 3"
    },
    "gpuClass": "standard"
  },
  "cells": [
    {
      "cell_type": "markdown",
      "metadata": {
        "id": "view-in-github",
        "colab_type": "text"
      },
      "source": [
        "<a href=\"https://colab.research.google.com/github/admulkay/admulkay/blob/main/Binary_Classification.ipynb\" target=\"_parent\"><img src=\"https://colab.research.google.com/assets/colab-badge.svg\" alt=\"Open In Colab\"/></a>"
      ]
    },
    {
      "cell_type": "code",
      "metadata": {
        "id": "wDlWLbfkJtvu",
        "cellView": "form"
      },
      "source": [
        "#@title Copyright 2020 Google LLC. Double-click here for license information.\n",
        "# Licensed under the Apache License, Version 2.0 (the \"License\");\n",
        "# you may not use this file except in compliance with the License.\n",
        "# You may obtain a copy of the License at\n",
        "#\n",
        "# https://www.apache.org/licenses/LICENSE-2.0\n",
        "#\n",
        "# Unless required by applicable law or agreed to in writing, software\n",
        "# distributed under the License is distributed on an \"AS IS\" BASIS,\n",
        "# WITHOUT WARRANTIES OR CONDITIONS OF ANY KIND, either express or implied.\n",
        "# See the License for the specific language governing permissions and\n",
        "# limitations under the License."
      ],
      "execution_count": null,
      "outputs": []
    },
    {
      "cell_type": "markdown",
      "metadata": {
        "id": "T4r2z30vJSbA"
      },
      "source": [
        "# Colabs\n",
        "\n",
        "Machine Learning Crash Course uses Colaboratories (Colabs) for all programming exercises. Colab is Google's implementation of [Jupyter Notebook](https://jupyter.org/). For more information about Colabs and how to use them, go to [Welcome to Colaboratory](https://research.google.com/colaboratory)."
      ]
    },
    {
      "cell_type": "markdown",
      "metadata": {
        "id": "TL5y5fY9Jy_x"
      },
      "source": [
        "# Binary Classification\n",
        "\n",
        "So far, you've only created regression models. That is, you created models that produced floating-point predictions, such as, \"houses in this neighborhood costs N thousand dollars.\" In this Colab, you'll create and evaluate a binary [classification model](https://developers.google.com/machine-learning/glossary/#classification_model).  That is, you'll create a model that answers a binary question. In this exercise, the binary question will be, \"Are houses in this neighborhood above a certain price?\"\n",
        "\n",
        "\n",
        "\n"
      ]
    },
    {
      "cell_type": "markdown",
      "metadata": {
        "id": "yuw8rRl9lNuL"
      },
      "source": [
        "## Learning Objectives:\n",
        "\n",
        "After doing this Colab, you'll know how to:\n",
        "\n",
        "  * Convert a regression question into a classification question.\n",
        "  * Modify the classification threshold and determine how that modification influences the model.\n",
        "  * Experiment with different classification metrics to determine your model's effectiveness."
      ]
    },
    {
      "cell_type": "markdown",
      "metadata": {
        "id": "44OdC-OglN9D"
      },
      "source": [
        "## The Dataset\n",
        "  \n",
        "Like several of the previous Colabs, this Colab uses the [California Housing Dataset](https://developers.google.com/machine-learning/crash-course/california-housing-data-description)."
      ]
    },
    {
      "cell_type": "markdown",
      "metadata": {
        "id": "5iuw6-JOGf7I"
      },
      "source": [
        "## Call the import statements\n",
        "\n",
        "The following code imports the necessary modules."
      ]
    },
    {
      "cell_type": "code",
      "metadata": {
        "id": "9n9_cTveKmse",
        "colab": {
          "base_uri": "https://localhost:8080/"
        },
        "outputId": "3d324ede-eb16-4139-d8fc-4dd4e367b2ad"
      },
      "source": [
        "#@title Load the imports\n",
        "\n",
        "import numpy as np\n",
        "import pandas as pd\n",
        "import tensorflow as tf\n",
        "from tensorflow.keras import layers\n",
        "from matplotlib import pyplot as plt\n",
        "\n",
        "# The following lines adjust the granularity of reporting.\n",
        "pd.options.display.max_rows = 10\n",
        "pd.options.display.float_format = \"{:.1f}\".format\n",
        "# tf.keras.backend.set_floatx('float32')\n",
        "\n",
        "print(\"Ran the import statements.\")"
      ],
      "execution_count": null,
      "outputs": [
        {
          "output_type": "stream",
          "name": "stdout",
          "text": [
            "Ran the import statements.\n"
          ]
        }
      ]
    },
    {
      "cell_type": "markdown",
      "metadata": {
        "id": "X_TaJhU4KcuY"
      },
      "source": [
        "## Load the datasets from the internet\n",
        "\n",
        "The following code cell loads the separate .csv files and creates the following two pandas DataFrames:\n",
        "\n",
        "* `train_df`, which contains the training set\n",
        "* `test_df`, which contains the test set"
      ]
    },
    {
      "cell_type": "code",
      "metadata": {
        "id": "JZlvdpyYKx7V"
      },
      "source": [
        "train_df = pd.read_csv(\"https://download.mlcc.google.com/mledu-datasets/california_housing_train.csv\")\n",
        "test_df = pd.read_csv(\"https://download.mlcc.google.com/mledu-datasets/california_housing_test.csv\")\n",
        "train_df = train_df.reindex(np.random.permutation(train_df.index)) # shuffle the training set"
      ],
      "execution_count": null,
      "outputs": []
    },
    {
      "cell_type": "markdown",
      "metadata": {
        "id": "q_vuAQq0Cvrp"
      },
      "source": [
        "Unlike some of the previous Colabs, the preceding code cell did not scale the label (`median_house_value`).  The following section (\"Normalize values\") provides an alternative approach."
      ]
    },
    {
      "cell_type": "markdown",
      "metadata": {
        "id": "_G6y-XcEmk6r"
      },
      "source": [
        "## Normalize values\n",
        "\n",
        "When creating a model with multiple features, the values of each feature should cover roughly the same range.  For example, if one feature's range spans 500 to 100,000 and another feature's range spans 2 to 12, then the model will be difficult or impossible to train. Therefore, you should\n",
        "[normalize](https://developers.google.com/machine-learning/glossary/#normalization) features in a multi-feature model.\n",
        "\n",
        "The following code cell normalizes datasets by converting each raw value (including the label) to its Z-score. A **Z-score** is the number of standard deviations from the mean for a particular raw value. For example, consider a feature having the following characteristics:\n",
        "\n",
        "  * The mean is 60.\n",
        "  * The standard deviation is 10.\n",
        "\n",
        "The raw value 75 would have a Z-score of +1.5:\n",
        "\n",
        "```\n",
        "  Z-score = (75 - 60) / 10 = +1.5\n",
        "```\n",
        "\n",
        "The raw value 38 would have a Z-score of -2.2:\n",
        "\n",
        "```\n",
        "  Z-score = (38 - 60) / 10 = -2.2\n",
        "```"
      ]
    },
    {
      "cell_type": "code",
      "metadata": {
        "id": "n7nuAHoZIgVI",
        "colab": {
          "base_uri": "https://localhost:8080/",
          "height": 206
        },
        "outputId": "135be8db-eb0d-45b3-960d-14e70690bf55"
      },
      "source": [
        "# Calculate the Z-scores of each column in the training set and\n",
        "# write those Z-scores into a new pandas DataFrame named train_df_norm.\n",
        "train_df_mean = train_df.mean()\n",
        "train_df_std = train_df.std()\n",
        "train_df_norm = (train_df - train_df_mean)/train_df_std\n",
        "\n",
        "# Examine some of the values of the normalized training set. Notice that most\n",
        "# Z-scores fall between -2 and +2.\n",
        "train_df_norm.head()"
      ],
      "execution_count": null,
      "outputs": [
        {
          "output_type": "execute_result",
          "data": {
            "text/plain": [
              "       longitude  latitude  housing_median_age  total_rooms  total_bedrooms  \\\n",
              "1365         1.2      -1.3                -0.4         -0.5            -0.4   \n",
              "2685         0.9      -0.7                 0.3         -0.4            -0.5   \n",
              "4039         0.8      -0.8                 0.5         -0.8            -1.0   \n",
              "13906       -1.2       1.0                -0.7         -1.1            -1.2   \n",
              "5796         0.7      -0.9                 1.0         -0.2             0.2   \n",
              "\n",
              "       population  households  median_income  median_house_value  \n",
              "1365         -0.6        -0.5           -0.4                -0.2  \n",
              "2685         -0.3        -0.5            0.1                -0.7  \n",
              "4039         -0.7        -0.9            0.7                -0.1  \n",
              "13906        -1.2        -1.2            1.4                 1.1  \n",
              "5796          0.8         0.1           -1.1                -0.6  "
            ],
            "text/html": [
              "\n",
              "  <div id=\"df-13a00a51-ce1f-4280-921e-f6139111910b\">\n",
              "    <div class=\"colab-df-container\">\n",
              "      <div>\n",
              "<style scoped>\n",
              "    .dataframe tbody tr th:only-of-type {\n",
              "        vertical-align: middle;\n",
              "    }\n",
              "\n",
              "    .dataframe tbody tr th {\n",
              "        vertical-align: top;\n",
              "    }\n",
              "\n",
              "    .dataframe thead th {\n",
              "        text-align: right;\n",
              "    }\n",
              "</style>\n",
              "<table border=\"1\" class=\"dataframe\">\n",
              "  <thead>\n",
              "    <tr style=\"text-align: right;\">\n",
              "      <th></th>\n",
              "      <th>longitude</th>\n",
              "      <th>latitude</th>\n",
              "      <th>housing_median_age</th>\n",
              "      <th>total_rooms</th>\n",
              "      <th>total_bedrooms</th>\n",
              "      <th>population</th>\n",
              "      <th>households</th>\n",
              "      <th>median_income</th>\n",
              "      <th>median_house_value</th>\n",
              "    </tr>\n",
              "  </thead>\n",
              "  <tbody>\n",
              "    <tr>\n",
              "      <th>1365</th>\n",
              "      <td>1.2</td>\n",
              "      <td>-1.3</td>\n",
              "      <td>-0.4</td>\n",
              "      <td>-0.5</td>\n",
              "      <td>-0.4</td>\n",
              "      <td>-0.6</td>\n",
              "      <td>-0.5</td>\n",
              "      <td>-0.4</td>\n",
              "      <td>-0.2</td>\n",
              "    </tr>\n",
              "    <tr>\n",
              "      <th>2685</th>\n",
              "      <td>0.9</td>\n",
              "      <td>-0.7</td>\n",
              "      <td>0.3</td>\n",
              "      <td>-0.4</td>\n",
              "      <td>-0.5</td>\n",
              "      <td>-0.3</td>\n",
              "      <td>-0.5</td>\n",
              "      <td>0.1</td>\n",
              "      <td>-0.7</td>\n",
              "    </tr>\n",
              "    <tr>\n",
              "      <th>4039</th>\n",
              "      <td>0.8</td>\n",
              "      <td>-0.8</td>\n",
              "      <td>0.5</td>\n",
              "      <td>-0.8</td>\n",
              "      <td>-1.0</td>\n",
              "      <td>-0.7</td>\n",
              "      <td>-0.9</td>\n",
              "      <td>0.7</td>\n",
              "      <td>-0.1</td>\n",
              "    </tr>\n",
              "    <tr>\n",
              "      <th>13906</th>\n",
              "      <td>-1.2</td>\n",
              "      <td>1.0</td>\n",
              "      <td>-0.7</td>\n",
              "      <td>-1.1</td>\n",
              "      <td>-1.2</td>\n",
              "      <td>-1.2</td>\n",
              "      <td>-1.2</td>\n",
              "      <td>1.4</td>\n",
              "      <td>1.1</td>\n",
              "    </tr>\n",
              "    <tr>\n",
              "      <th>5796</th>\n",
              "      <td>0.7</td>\n",
              "      <td>-0.9</td>\n",
              "      <td>1.0</td>\n",
              "      <td>-0.2</td>\n",
              "      <td>0.2</td>\n",
              "      <td>0.8</td>\n",
              "      <td>0.1</td>\n",
              "      <td>-1.1</td>\n",
              "      <td>-0.6</td>\n",
              "    </tr>\n",
              "  </tbody>\n",
              "</table>\n",
              "</div>\n",
              "      <button class=\"colab-df-convert\" onclick=\"convertToInteractive('df-13a00a51-ce1f-4280-921e-f6139111910b')\"\n",
              "              title=\"Convert this dataframe to an interactive table.\"\n",
              "              style=\"display:none;\">\n",
              "        \n",
              "  <svg xmlns=\"http://www.w3.org/2000/svg\" height=\"24px\"viewBox=\"0 0 24 24\"\n",
              "       width=\"24px\">\n",
              "    <path d=\"M0 0h24v24H0V0z\" fill=\"none\"/>\n",
              "    <path d=\"M18.56 5.44l.94 2.06.94-2.06 2.06-.94-2.06-.94-.94-2.06-.94 2.06-2.06.94zm-11 1L8.5 8.5l.94-2.06 2.06-.94-2.06-.94L8.5 2.5l-.94 2.06-2.06.94zm10 10l.94 2.06.94-2.06 2.06-.94-2.06-.94-.94-2.06-.94 2.06-2.06.94z\"/><path d=\"M17.41 7.96l-1.37-1.37c-.4-.4-.92-.59-1.43-.59-.52 0-1.04.2-1.43.59L10.3 9.45l-7.72 7.72c-.78.78-.78 2.05 0 2.83L4 21.41c.39.39.9.59 1.41.59.51 0 1.02-.2 1.41-.59l7.78-7.78 2.81-2.81c.8-.78.8-2.07 0-2.86zM5.41 20L4 18.59l7.72-7.72 1.47 1.35L5.41 20z\"/>\n",
              "  </svg>\n",
              "      </button>\n",
              "      \n",
              "  <style>\n",
              "    .colab-df-container {\n",
              "      display:flex;\n",
              "      flex-wrap:wrap;\n",
              "      gap: 12px;\n",
              "    }\n",
              "\n",
              "    .colab-df-convert {\n",
              "      background-color: #E8F0FE;\n",
              "      border: none;\n",
              "      border-radius: 50%;\n",
              "      cursor: pointer;\n",
              "      display: none;\n",
              "      fill: #1967D2;\n",
              "      height: 32px;\n",
              "      padding: 0 0 0 0;\n",
              "      width: 32px;\n",
              "    }\n",
              "\n",
              "    .colab-df-convert:hover {\n",
              "      background-color: #E2EBFA;\n",
              "      box-shadow: 0px 1px 2px rgba(60, 64, 67, 0.3), 0px 1px 3px 1px rgba(60, 64, 67, 0.15);\n",
              "      fill: #174EA6;\n",
              "    }\n",
              "\n",
              "    [theme=dark] .colab-df-convert {\n",
              "      background-color: #3B4455;\n",
              "      fill: #D2E3FC;\n",
              "    }\n",
              "\n",
              "    [theme=dark] .colab-df-convert:hover {\n",
              "      background-color: #434B5C;\n",
              "      box-shadow: 0px 1px 3px 1px rgba(0, 0, 0, 0.15);\n",
              "      filter: drop-shadow(0px 1px 2px rgba(0, 0, 0, 0.3));\n",
              "      fill: #FFFFFF;\n",
              "    }\n",
              "  </style>\n",
              "\n",
              "      <script>\n",
              "        const buttonEl =\n",
              "          document.querySelector('#df-13a00a51-ce1f-4280-921e-f6139111910b button.colab-df-convert');\n",
              "        buttonEl.style.display =\n",
              "          google.colab.kernel.accessAllowed ? 'block' : 'none';\n",
              "\n",
              "        async function convertToInteractive(key) {\n",
              "          const element = document.querySelector('#df-13a00a51-ce1f-4280-921e-f6139111910b');\n",
              "          const dataTable =\n",
              "            await google.colab.kernel.invokeFunction('convertToInteractive',\n",
              "                                                     [key], {});\n",
              "          if (!dataTable) return;\n",
              "\n",
              "          const docLinkHtml = 'Like what you see? Visit the ' +\n",
              "            '<a target=\"_blank\" href=https://colab.research.google.com/notebooks/data_table.ipynb>data table notebook</a>'\n",
              "            + ' to learn more about interactive tables.';\n",
              "          element.innerHTML = '';\n",
              "          dataTable['output_type'] = 'display_data';\n",
              "          await google.colab.output.renderOutput(dataTable, element);\n",
              "          const docLink = document.createElement('div');\n",
              "          docLink.innerHTML = docLinkHtml;\n",
              "          element.appendChild(docLink);\n",
              "        }\n",
              "      </script>\n",
              "    </div>\n",
              "  </div>\n",
              "  "
            ]
          },
          "metadata": {},
          "execution_count": 9
        }
      ]
    },
    {
      "cell_type": "code",
      "metadata": {
        "id": "QoW-59jVFF2I"
      },
      "source": [
        "# Calculate the Z-scores of each column in the test set and\n",
        "# write those Z-scores into a new pandas DataFrame named test_df_norm.\n",
        "test_df_mean = test_df.mean()\n",
        "test_df_std  = test_df.std()\n",
        "test_df_norm = (test_df - test_df_mean)/test_df_std"
      ],
      "execution_count": null,
      "outputs": []
    },
    {
      "cell_type": "markdown",
      "metadata": {
        "id": "-swmXtWnZGis"
      },
      "source": [
        "## Task 1: Create a binary label\n",
        "\n",
        "In classification problems, the label for every example must be either 0 or 1. Unfortunately, the natural label in the California Housing Dataset, `median_house_value`, contains floating-point values like 80,100 or 85,700 rather than 0s and 1s, while the normalized version of `median_house_values` contains floating-point values primarily between -3 and +3.\n",
        "\n",
        "Your task is to create a new column named `median_house_value_is_high` in both the training set and the test set . If the `median_house_value` is higher than a certain arbitrary value (defined by `threshold`), then set `median_house_value_is_high` to 1. Otherwise, set `median_house_value_is_high` to 0.\n",
        "\n",
        "**Hint:** The cells in the `median_house_value_is_high` column must each hold `1` and `0`, not `True` and `False`. To convert `True` and `False` to  `1` and `0`, call the pandas DataFrame function `astype(float)`."
      ]
    },
    {
      "cell_type": "code",
      "metadata": {
        "id": "d4kWfWA8bhKW",
        "colab": {
          "base_uri": "https://localhost:8080/"
        },
        "outputId": "76aae89c-2bfc-4e3f-e2be-c868174699bd"
      },
      "source": [
        "threshold = 265000 # This is the 75th percentile for median house values.\n",
        "train_df_norm[\"median_house_value_is_high\"] = (train_df[\"median_house_value\"] > threshold).astype(float)\n",
        "test_df_norm[\"median_house_value_is_high\"] = (test_df[\"median_house_value\"] > threshold).astype(float)\n",
        "train_df_norm[\"median_house_value_is_high\"].head(8000)\n",
        "# Print out a few example cells from the beginning and\n",
        "# middle of the training set, just to make sure that\n",
        "# your code created only 0s and 1s in the newly created\n",
        "# median_house_value_is_high column\n",
        "train_df_norm[\"median_house_value_is_high\"].head(8000)"
      ],
      "execution_count": null,
      "outputs": [
        {
          "output_type": "execute_result",
          "data": {
            "text/plain": [
              "1365    0.0\n",
              "2685    0.0\n",
              "4039    0.0\n",
              "13906   1.0\n",
              "5796    0.0\n",
              "         ..\n",
              "6996    0.0\n",
              "8130    1.0\n",
              "586     0.0\n",
              "11107   0.0\n",
              "8248    1.0\n",
              "Name: median_house_value_is_high, Length: 8000, dtype: float64"
            ]
          },
          "metadata": {},
          "execution_count": 12
        }
      ]
    },
    {
      "cell_type": "code",
      "metadata": {
        "id": "b8b2fNmHO-iU",
        "colab": {
          "base_uri": "https://localhost:8080/"
        },
        "outputId": "6c627b1a-7a44-4324-fd46-8ddba6dafe97"
      },
      "source": [
        "#@title Double-click for possible solutions.\n",
        "\n",
        "# We arbitrarily set the threshold to 265,000, which is\n",
        "# the 75th percentile for median house values.  Every neighborhood\n",
        "# with a median house price above 265,000 will be labeled 1,\n",
        "# and all other neighborhoods will be labeled 0.\n",
        "threshold = 265000\n",
        "train_df_norm[\"median_house_value_is_high\"] = (train_df[\"median_house_value\"] > threshold).astype(float)\n",
        "test_df_norm[\"median_house_value_is_high\"] = (test_df[\"median_house_value\"] > threshold).astype(float)\n",
        "train_df_norm[\"median_house_value_is_high\"].head(8000)\n",
        "\n",
        "\n",
        "# Alternatively, instead of picking the threshold\n",
        "# based on raw house values, you can work with Z-scores.\n",
        "# For example, the following possible solution uses a Z-score\n",
        "# of +1.0 as the threshold, meaning that no more\n",
        "# than 16% of the values in median_house_value_is_high\n",
        "# will be labeled 1.\n",
        "\n",
        "# threshold_in_Z = 1.0\n",
        "# train_df_norm[\"median_house_value_is_high\"] = (train_df_norm[\"median_house_value\"] > threshold_in_Z).astype(float)\n",
        "# test_df_norm[\"median_house_value_is_high\"] = (test_df_norm[\"median_house_value\"] > threshold_in_Z).astype(float)\n"
      ],
      "execution_count": null,
      "outputs": [
        {
          "output_type": "execute_result",
          "data": {
            "text/plain": [
              "1365    0.0\n",
              "2685    0.0\n",
              "4039    0.0\n",
              "13906   1.0\n",
              "5796    0.0\n",
              "         ..\n",
              "6996    0.0\n",
              "8130    1.0\n",
              "586     0.0\n",
              "11107   0.0\n",
              "8248    1.0\n",
              "Name: median_house_value_is_high, Length: 8000, dtype: float64"
            ]
          },
          "metadata": {},
          "execution_count": 13
        }
      ]
    },
    {
      "cell_type": "markdown",
      "metadata": {
        "id": "8kir8UTUXSV8"
      },
      "source": [
        "## Represent features in feature columns\n",
        "\n",
        "This code cell specifies the features that you'll ultimately train the model on and how each of those features will be represented. The transformations (collected in `feature_layer`) don't actually get applied until you pass a DataFrame to it, which will happen when we train the model."
      ]
    },
    {
      "cell_type": "code",
      "metadata": {
        "id": "3tmmZIDw4JEC",
        "colab": {
          "base_uri": "https://localhost:8080/"
        },
        "outputId": "db1388bb-c7d4-4a15-a404-f8b830e57f17"
      },
      "source": [
        "# Create an empty list that will eventually hold all created feature columns.\n",
        "feature_columns = []\n",
        "\n",
        "# Create a numerical feature column to represent median_income.\n",
        "median_income = tf.feature_column.numeric_column(\"median_income\")\n",
        "feature_columns.append(median_income)\n",
        "\n",
        "# Create a numerical feature column to represent total_rooms.\n",
        "tr = tf.feature_column.numeric_column(\"total_rooms\")\n",
        "feature_columns.append(tr)\n",
        "\n",
        "# Convert the list of feature columns into a layer that will later be fed into\n",
        "# the model.\n",
        "feature_layer = layers.DenseFeatures(feature_columns)\n",
        "\n",
        "# Print the first 3 and last 3 rows of the feature_layer's output when applied\n",
        "# to train_df_norm:\n",
        "feature_layer(dict(train_df_norm))"
      ],
      "execution_count": null,
      "outputs": [
        {
          "output_type": "execute_result",
          "data": {
            "text/plain": [
              "<tf.Tensor: shape=(17000, 2), dtype=float32, numpy=\n",
              "array([[-0.4029953 , -0.4929773 ],\n",
              "       [ 0.08066524, -0.39847958],\n",
              "       [ 0.71609527, -0.84894925],\n",
              "       ...,\n",
              "       [-0.74143714, -0.50261056],\n",
              "       [ 0.18736508, -0.508574  ],\n",
              "       [ 5.8257914 ,  0.03409972]], dtype=float32)>"
            ]
          },
          "metadata": {},
          "execution_count": 14
        }
      ]
    },
    {
      "cell_type": "markdown",
      "metadata": {
        "id": "3014ezH3C7jT"
      },
      "source": [
        "## Define functions that build and train a model\n",
        "\n",
        "The following code cell defines two functions:\n",
        "\n",
        "  * `create_model(my_learning_rate, feature_layer, my_metrics)`, which defines the model's\n",
        "    topography.\n",
        "  * `train_model(model, dataset, epochs, label_name, batch_size, shuffle)`, uses input features and labels to train the model.\n",
        "\n",
        "Prior exercises used [ReLU](https://developers.google.com/machine-learning/glossary#ReLU) as the [activation function](https://developers.google.com/machine-learning/glossary#activation_function). By contrast, this exercise uses [sigmoid](https://developers.google.com/machine-learning/glossary#sigmoid_function) as the activation function."
      ]
    },
    {
      "cell_type": "code",
      "metadata": {
        "id": "pedD5GhlDC-y",
        "colab": {
          "base_uri": "https://localhost:8080/"
        },
        "outputId": "5f7a3611-21df-4dbc-a38b-65ed8cb4762d"
      },
      "source": [
        "#@title Define the functions that create and train a model.\n",
        "def create_model(my_learning_rate, feature_layer, my_metrics):\n",
        "  \"\"\"Create and compile a simple classification model.\"\"\"\n",
        "  # Most simple tf.keras models are sequential.\n",
        "  model = tf.keras.models.Sequential()\n",
        "\n",
        "  # Add the feature layer (the list of features and how they are represented)\n",
        "  # to the model.\n",
        "  model.add(feature_layer)\n",
        "\n",
        "  # Funnel the regression value through a sigmoid function.\n",
        "  model.add(tf.keras.layers.Dense(units=1, input_shape=(1,),\n",
        "                                  activation=tf.sigmoid),)\n",
        "\n",
        "  # Call the compile method to construct the layers into a model that\n",
        "  # TensorFlow can execute.  Notice that we're using a different loss\n",
        "  # function for classification than for regression.\n",
        "  model.compile(optimizer=tf.keras.optimizers.RMSprop(lr=my_learning_rate),\n",
        "                loss=tf.keras.losses.BinaryCrossentropy(),\n",
        "                metrics=my_metrics)\n",
        "\n",
        "  return model\n",
        "\n",
        "\n",
        "def train_model(model, dataset, epochs, label_name,\n",
        "                batch_size=None, shuffle=True):\n",
        "  \"\"\"Feed a dataset into the model in order to train it.\"\"\"\n",
        "\n",
        "  # The x parameter of tf.keras.Model.fit can be a list of arrays, where\n",
        "  # each array contains the data for one feature.  Here, we're passing\n",
        "  # every column in the dataset. Note that the feature_layer will filter\n",
        "  # away most of those columns, leaving only the desired columns and their\n",
        "  # representations as features.\n",
        "  features = {name:np.array(value) for name, value in dataset.items()}\n",
        "  label = np.array(features.pop(label_name))\n",
        "  history = model.fit(x=features, y=label, batch_size=batch_size,\n",
        "                      epochs=epochs, shuffle=shuffle)\n",
        "\n",
        "  # The list of epochs is stored separately from the rest of history.\n",
        "  epochs = history.epoch\n",
        "\n",
        "  # Isolate the classification metric for each epoch.\n",
        "  hist = pd.DataFrame(history.history)\n",
        "\n",
        "  return epochs, hist\n",
        "\n",
        "print(\"Defined the create_model and train_model functions.\")"
      ],
      "execution_count": null,
      "outputs": [
        {
          "output_type": "stream",
          "name": "stdout",
          "text": [
            "Defined the create_model and train_model functions.\n"
          ]
        }
      ]
    },
    {
      "cell_type": "markdown",
      "metadata": {
        "id": "Ak_TMAzGOIFq"
      },
      "source": [
        "## Define a plotting function\n",
        "\n",
        "The following [matplotlib](https://developers.google.com/machine-learning/glossary/#matplotlib) function plots one or more curves, showing how various classification metrics change with each epoch."
      ]
    },
    {
      "cell_type": "code",
      "metadata": {
        "id": "QF0BFRXTOeR3",
        "colab": {
          "base_uri": "https://localhost:8080/"
        },
        "outputId": "35f3d9a7-c5b0-4aad-9f59-096fb1d4bf3e"
      },
      "source": [
        "#@title Define the plotting function.\n",
        "def plot_curve(epochs, hist, list_of_metrics):\n",
        "  \"\"\"Plot a curve of one or more classification metrics vs. epoch.\"\"\"\n",
        "  # list_of_metrics should be one of the names shown in:\n",
        "  # https://www.tensorflow.org/tutorials/structured_data/imbalanced_data#define_the_model_and_metrics\n",
        "\n",
        "  plt.figure()\n",
        "  plt.xlabel(\"Epoch\")\n",
        "  plt.ylabel(\"Value\")\n",
        "\n",
        "  for m in list_of_metrics:\n",
        "    x = hist[m]\n",
        "    plt.plot(epochs[1:], x[1:], label=m)\n",
        "\n",
        "  plt.legend()\n",
        "\n",
        "print(\"Defined the plot_curve function.\")"
      ],
      "execution_count": null,
      "outputs": [
        {
          "output_type": "stream",
          "name": "stdout",
          "text": [
            "Defined the plot_curve function.\n"
          ]
        }
      ]
    },
    {
      "cell_type": "markdown",
      "metadata": {
        "id": "D-IXYVfvM4gD"
      },
      "source": [
        "## Invoke the creating, training, and plotting functions\n",
        "\n",
        "The following code cell calls specify the hyperparameters, and then invokes the\n",
        "functions to create and train the model, and then to plot the results."
      ]
    },
    {
      "cell_type": "code",
      "metadata": {
        "id": "nj3v5EKQFY8s",
        "cellView": "both",
        "colab": {
          "base_uri": "https://localhost:8080/",
          "height": 1000
        },
        "outputId": "d2331153-29f0-4be8-9c66-467aec732377"
      },
      "source": [
        "# The following variables are the hyperparameters.\n",
        "learning_rate = 0.001\n",
        "epochs = 20\n",
        "batch_size = 100\n",
        "label_name = \"median_house_value_is_high\"\n",
        "classification_threshold = 0.35\n",
        "\n",
        "# Establish the metrics the model will measure.\n",
        "METRICS = [\n",
        "           tf.keras.metrics.BinaryAccuracy(name='accuracy',\n",
        "                                           threshold=classification_threshold),\n",
        "          ]\n",
        "\n",
        "# Establish the model's topography.\n",
        "my_model = create_model(learning_rate, feature_layer, METRICS)\n",
        "\n",
        "# Train the model on the training set.\n",
        "epochs, hist = train_model(my_model, train_df_norm, epochs,\n",
        "                           label_name, batch_size)\n",
        "\n",
        "# Plot a graph of the metric(s) vs. epochs.\n",
        "list_of_metrics_to_plot = ['accuracy']\n",
        "\n",
        "plot_curve(epochs, hist, list_of_metrics_to_plot)"
      ],
      "execution_count": null,
      "outputs": [
        {
          "output_type": "stream",
          "name": "stderr",
          "text": [
            "/usr/local/lib/python3.8/dist-packages/keras/optimizers/optimizer_v2/rmsprop.py:135: UserWarning: The `lr` argument is deprecated, use `learning_rate` instead.\n",
            "  super(RMSprop, self).__init__(name, **kwargs)\n"
          ]
        },
        {
          "output_type": "stream",
          "name": "stdout",
          "text": [
            "Epoch 1/20\n"
          ]
        },
        {
          "output_type": "stream",
          "name": "stderr",
          "text": [
            "WARNING:tensorflow:Layers in a Sequential model should only have a single input tensor. Received: inputs={'longitude': <tf.Tensor 'IteratorGetNext:3' shape=(100,) dtype=float32>, 'latitude': <tf.Tensor 'IteratorGetNext:2' shape=(100,) dtype=float32>, 'housing_median_age': <tf.Tensor 'IteratorGetNext:1' shape=(100,) dtype=float32>, 'total_rooms': <tf.Tensor 'IteratorGetNext:8' shape=(100,) dtype=float32>, 'total_bedrooms': <tf.Tensor 'IteratorGetNext:7' shape=(100,) dtype=float32>, 'population': <tf.Tensor 'IteratorGetNext:6' shape=(100,) dtype=float32>, 'households': <tf.Tensor 'IteratorGetNext:0' shape=(100,) dtype=float32>, 'median_income': <tf.Tensor 'IteratorGetNext:5' shape=(100,) dtype=float32>, 'median_house_value': <tf.Tensor 'IteratorGetNext:4' shape=(100,) dtype=float32>}. Consider rewriting this model with the Functional API.\n",
            "WARNING:tensorflow:Layers in a Sequential model should only have a single input tensor. Received: inputs={'longitude': <tf.Tensor 'IteratorGetNext:3' shape=(100,) dtype=float32>, 'latitude': <tf.Tensor 'IteratorGetNext:2' shape=(100,) dtype=float32>, 'housing_median_age': <tf.Tensor 'IteratorGetNext:1' shape=(100,) dtype=float32>, 'total_rooms': <tf.Tensor 'IteratorGetNext:8' shape=(100,) dtype=float32>, 'total_bedrooms': <tf.Tensor 'IteratorGetNext:7' shape=(100,) dtype=float32>, 'population': <tf.Tensor 'IteratorGetNext:6' shape=(100,) dtype=float32>, 'households': <tf.Tensor 'IteratorGetNext:0' shape=(100,) dtype=float32>, 'median_income': <tf.Tensor 'IteratorGetNext:5' shape=(100,) dtype=float32>, 'median_house_value': <tf.Tensor 'IteratorGetNext:4' shape=(100,) dtype=float32>}. Consider rewriting this model with the Functional API.\n"
          ]
        },
        {
          "output_type": "stream",
          "name": "stdout",
          "text": [
            "170/170 [==============================] - 1s 2ms/step - loss: 1.1369 - accuracy: 0.2288\n",
            "Epoch 2/20\n",
            "170/170 [==============================] - 0s 2ms/step - loss: 0.9964 - accuracy: 0.2359\n",
            "Epoch 3/20\n",
            "170/170 [==============================] - 0s 2ms/step - loss: 0.8718 - accuracy: 0.2495\n",
            "Epoch 4/20\n",
            "170/170 [==============================] - 0s 2ms/step - loss: 0.7647 - accuracy: 0.2764\n",
            "Epoch 5/20\n",
            "170/170 [==============================] - 0s 2ms/step - loss: 0.6757 - accuracy: 0.3609\n",
            "Epoch 6/20\n",
            "170/170 [==============================] - 0s 2ms/step - loss: 0.6048 - accuracy: 0.6554\n",
            "Epoch 7/20\n",
            "170/170 [==============================] - 0s 2ms/step - loss: 0.5506 - accuracy: 0.7576\n",
            "Epoch 8/20\n",
            "170/170 [==============================] - 0s 2ms/step - loss: 0.5103 - accuracy: 0.8002\n",
            "Epoch 9/20\n",
            "170/170 [==============================] - 0s 2ms/step - loss: 0.4806 - accuracy: 0.8237\n",
            "Epoch 10/20\n",
            "170/170 [==============================] - 0s 2ms/step - loss: 0.4576 - accuracy: 0.8273\n",
            "Epoch 11/20\n",
            "170/170 [==============================] - 0s 2ms/step - loss: 0.4399 - accuracy: 0.8252\n",
            "Epoch 12/20\n",
            "170/170 [==============================] - 0s 2ms/step - loss: 0.4260 - accuracy: 0.8200\n",
            "Epoch 13/20\n",
            "170/170 [==============================] - 0s 2ms/step - loss: 0.4157 - accuracy: 0.8161\n",
            "Epoch 14/20\n",
            "170/170 [==============================] - 0s 2ms/step - loss: 0.4081 - accuracy: 0.8144\n",
            "Epoch 15/20\n",
            "170/170 [==============================] - 0s 2ms/step - loss: 0.4033 - accuracy: 0.8125\n",
            "Epoch 16/20\n",
            "170/170 [==============================] - 0s 2ms/step - loss: 0.4002 - accuracy: 0.8107\n",
            "Epoch 17/20\n",
            "170/170 [==============================] - 0s 2ms/step - loss: 0.3985 - accuracy: 0.8096\n",
            "Epoch 18/20\n",
            "170/170 [==============================] - 0s 2ms/step - loss: 0.3976 - accuracy: 0.8085\n",
            "Epoch 19/20\n",
            "170/170 [==============================] - 0s 2ms/step - loss: 0.3971 - accuracy: 0.8092\n",
            "Epoch 20/20\n",
            "170/170 [==============================] - 0s 2ms/step - loss: 0.3969 - accuracy: 0.8092\n"
          ]
        },
        {
          "output_type": "display_data",
          "data": {
            "text/plain": [
              "<Figure size 432x288 with 1 Axes>"
            ],
            "image/png": "[encoded data removed]"
          },
          "metadata": {
            "needs_background": "light"
          }
        }
      ]
    },
    {
      "cell_type": "markdown",
      "metadata": {
        "id": "FF64TpqkbOpn"
      },
      "source": [
        "Accuracy should gradually improve during training (until it can\n",
        "improve no more)."
      ]
    },
    {
      "cell_type": "markdown",
      "metadata": {
        "id": "1xNqWWos_zyk"
      },
      "source": [
        "## Evaluate the model against the test set\n",
        "\n",
        "At the end of model training, you ended up with a certain accuracy against the *training set*. Invoke the following code cell to determine your model's accuracy against the *test set*."
      ]
    },
    {
      "cell_type": "code",
      "metadata": {
        "id": "eJorkMlDmtHf",
        "colab": {
          "base_uri": "https://localhost:8080/"
        },
        "outputId": "5b8d390b-86e4-4fb7-d219-012e55d2d8c2"
      },
      "source": [
        "features = {name:np.array(value) for name, value in test_df_norm.items()}\n",
        "label = np.array(features.pop(label_name))\n",
        "\n",
        "my_model.evaluate(x = features, y = label, batch_size=batch_size)"
      ],
      "execution_count": null,
      "outputs": [
        {
          "output_type": "stream",
          "name": "stderr",
          "text": [
            "WARNING:tensorflow:Layers in a Sequential model should only have a single input tensor. Received: inputs={'longitude': <tf.Tensor 'IteratorGetNext:3' shape=(100,) dtype=float32>, 'latitude': <tf.Tensor 'IteratorGetNext:2' shape=(100,) dtype=float32>, 'housing_median_age': <tf.Tensor 'IteratorGetNext:1' shape=(100,) dtype=float32>, 'total_rooms': <tf.Tensor 'IteratorGetNext:8' shape=(100,) dtype=float32>, 'total_bedrooms': <tf.Tensor 'IteratorGetNext:7' shape=(100,) dtype=float32>, 'population': <tf.Tensor 'IteratorGetNext:6' shape=(100,) dtype=float32>, 'households': <tf.Tensor 'IteratorGetNext:0' shape=(100,) dtype=float32>, 'median_income': <tf.Tensor 'IteratorGetNext:5' shape=(100,) dtype=float32>, 'median_house_value': <tf.Tensor 'IteratorGetNext:4' shape=(100,) dtype=float32>}. Consider rewriting this model with the Functional API.\n"
          ]
        },
        {
          "output_type": "stream",
          "name": "stdout",
          "text": [
            "30/30 [==============================] - 0s 2ms/step - loss: 0.4067 - accuracy: 0.8003\n"
          ]
        },
        {
          "output_type": "execute_result",
          "data": {
            "text/plain": [
              "[0.40672048926353455, 0.8003333210945129]"
            ]
          },
          "metadata": {},
          "execution_count": 18
        }
      ]
    },
    {
      "cell_type": "markdown",
      "metadata": {
        "id": "q7cHkFXalXV5"
      },
      "source": [
        "## Task 2: How accurate is your model really?\n",
        "\n",
        "Is your model valuable?"
      ]
    },
    {
      "cell_type": "code",
      "metadata": {
        "id": "rUvCrQkulwjV"
      },
      "source": [
        "#@title Double-click for a possible answer to Task 2.\n",
        "\n",
        "# A perfect model would make 100% accurate predictions.\n",
        "# Our model makes 80% accurate predictions. 80% sounds\n",
        "# good, but note that a model that always guesses\n",
        "# \"median_house_value_is_high is False\" would be 75%\n",
        "# accurate."
      ],
      "execution_count": null,
      "outputs": []
    },
    {
      "cell_type": "markdown",
      "metadata": {
        "id": "C8crSCCVf6gm"
      },
      "source": [
        "## Task 3: Add precision and recall as metrics\n",
        "\n",
        "Relying solely on accuracy, particularly for a class-imbalanced data set (like ours), can be a poor way to judge a classification model.  Modify the code in the following code cell to enable the model to measure not only accuracy but also precision and recall. We have\n",
        "added accuracy and precision; your task is to add recall. See the [TensorFlow Reference](https://www.tensorflow.org/api_docs/python/tf/keras/metrics/Recall) for details.\n",
        "\n"
      ]
    },
    {
      "cell_type": "code",
      "metadata": {
        "id": "r-k1MD2XArmO",
        "colab": {
          "base_uri": "https://localhost:8080/",
          "height": 1000
        },
        "outputId": "559ef601-aa5c-4dc8-f682-4a8ba8afca90"
      },
      "source": [
        "# The following variables are the hyperparameters.\n",
        "learning_rate = 0.001\n",
        "epochs = 20\n",
        "batch_size = 100\n",
        "classification_threshold = 0.35\n",
        "label_name = \"median_house_value_is_high\"\n",
        "\n",
        "# Modify the following definition of METRICS to generate\n",
        "# not only accuracy and precision, but also recall:\n",
        "METRICS = [\n",
        "      tf.keras.metrics.BinaryAccuracy(name='accuracy',\n",
        "                                      threshold=classification_threshold),\n",
        "      tf.keras.metrics.Precision(thresholds=classification_threshold,\n",
        "                                 name='precision'\n",
        "                                 ),\n",
        "      tf.keras.metrics.Recall(thresholds=classification_threshold,\n",
        "                              name=\"recall\"),\n",
        "]\n",
        "\n",
        "\n",
        "# Establish the model's topography.\n",
        "my_model = create_model(learning_rate, feature_layer, METRICS)\n",
        "\n",
        "# Train the model on the training set.\n",
        "epochs, hist = train_model(my_model, train_df_norm, epochs,\n",
        "                           label_name, batch_size)\n",
        "\n",
        "# Plot metrics vs. epochs\n",
        "list_of_metrics_to_plot = ['accuracy', 'precision', 'recall']\n",
        "plot_curve(epochs, hist, list_of_metrics_to_plot)"
      ],
      "execution_count": null,
      "outputs": [
        {
          "output_type": "stream",
          "name": "stdout",
          "text": [
            "Epoch 1/20\n"
          ]
        },
        {
          "output_type": "stream",
          "name": "stderr",
          "text": [
            "/usr/local/lib/python3.8/dist-packages/keras/optimizers/optimizer_v2/rmsprop.py:135: UserWarning: The `lr` argument is deprecated, use `learning_rate` instead.\n",
            "  super(RMSprop, self).__init__(name, **kwargs)\n",
            "WARNING:tensorflow:Layers in a Sequential model should only have a single input tensor. Received: inputs={'longitude': <tf.Tensor 'IteratorGetNext:3' shape=(100,) dtype=float32>, 'latitude': <tf.Tensor 'IteratorGetNext:2' shape=(100,) dtype=float32>, 'housing_median_age': <tf.Tensor 'IteratorGetNext:1' shape=(100,) dtype=float32>, 'total_rooms': <tf.Tensor 'IteratorGetNext:8' shape=(100,) dtype=float32>, 'total_bedrooms': <tf.Tensor 'IteratorGetNext:7' shape=(100,) dtype=float32>, 'population': <tf.Tensor 'IteratorGetNext:6' shape=(100,) dtype=float32>, 'households': <tf.Tensor 'IteratorGetNext:0' shape=(100,) dtype=float32>, 'median_income': <tf.Tensor 'IteratorGetNext:5' shape=(100,) dtype=float32>, 'median_house_value': <tf.Tensor 'IteratorGetNext:4' shape=(100,) dtype=float32>}. Consider rewriting this model with the Functional API.\n",
            "WARNING:tensorflow:Layers in a Sequential model should only have a single input tensor. Received: inputs={'longitude': <tf.Tensor 'IteratorGetNext:3' shape=(100,) dtype=float32>, 'latitude': <tf.Tensor 'IteratorGetNext:2' shape=(100,) dtype=float32>, 'housing_median_age': <tf.Tensor 'IteratorGetNext:1' shape=(100,) dtype=float32>, 'total_rooms': <tf.Tensor 'IteratorGetNext:8' shape=(100,) dtype=float32>, 'total_bedrooms': <tf.Tensor 'IteratorGetNext:7' shape=(100,) dtype=float32>, 'population': <tf.Tensor 'IteratorGetNext:6' shape=(100,) dtype=float32>, 'households': <tf.Tensor 'IteratorGetNext:0' shape=(100,) dtype=float32>, 'median_income': <tf.Tensor 'IteratorGetNext:5' shape=(100,) dtype=float32>, 'median_house_value': <tf.Tensor 'IteratorGetNext:4' shape=(100,) dtype=float32>}. Consider rewriting this model with the Functional API.\n"
          ]
        },
        {
          "output_type": "stream",
          "name": "stdout",
          "text": [
            "170/170 [==============================] - 1s 2ms/step - loss: 0.5979 - accuracy: 0.3228 - precision: 0.2655 - recall: 0.9682\n",
            "Epoch 2/20\n",
            "170/170 [==============================] - 0s 2ms/step - loss: 0.5358 - accuracy: 0.5166 - precision: 0.3337 - recall: 0.9378\n",
            "Epoch 3/20\n",
            "170/170 [==============================] - 0s 2ms/step - loss: 0.4906 - accuracy: 0.6474 - precision: 0.4040 - recall: 0.8660\n",
            "Epoch 4/20\n",
            "170/170 [==============================] - 0s 2ms/step - loss: 0.4585 - accuracy: 0.7134 - precision: 0.4576 - recall: 0.7956\n",
            "Epoch 5/20\n",
            "170/170 [==============================] - 0s 2ms/step - loss: 0.4351 - accuracy: 0.7499 - precision: 0.4996 - recall: 0.7412\n",
            "Epoch 6/20\n",
            "170/170 [==============================] - 0s 2ms/step - loss: 0.4193 - accuracy: 0.7731 - precision: 0.5352 - recall: 0.6984\n",
            "Epoch 7/20\n",
            "170/170 [==============================] - 0s 2ms/step - loss: 0.4091 - accuracy: 0.7875 - precision: 0.5626 - recall: 0.6722\n",
            "Epoch 8/20\n",
            "170/170 [==============================] - 0s 2ms/step - loss: 0.4032 - accuracy: 0.7974 - precision: 0.5846 - recall: 0.6522\n",
            "Epoch 9/20\n",
            "170/170 [==============================] - 0s 2ms/step - loss: 0.3999 - accuracy: 0.8025 - precision: 0.5983 - recall: 0.6372\n",
            "Epoch 10/20\n",
            "170/170 [==============================] - 0s 2ms/step - loss: 0.3983 - accuracy: 0.8064 - precision: 0.6096 - recall: 0.6261\n",
            "Epoch 11/20\n",
            "170/170 [==============================] - 0s 2ms/step - loss: 0.3974 - accuracy: 0.8068 - precision: 0.6120 - recall: 0.6188\n",
            "Epoch 12/20\n",
            "170/170 [==============================] - 0s 2ms/step - loss: 0.3971 - accuracy: 0.8081 - precision: 0.6159 - recall: 0.6155\n",
            "Epoch 13/20\n",
            "170/170 [==============================] - 0s 2ms/step - loss: 0.3969 - accuracy: 0.8083 - precision: 0.6165 - recall: 0.6155\n",
            "Epoch 14/20\n",
            "170/170 [==============================] - 0s 2ms/step - loss: 0.3967 - accuracy: 0.8088 - precision: 0.6179 - recall: 0.6153\n",
            "Epoch 15/20\n",
            "170/170 [==============================] - 0s 2ms/step - loss: 0.3967 - accuracy: 0.8091 - precision: 0.6187 - recall: 0.6150\n",
            "Epoch 16/20\n",
            "170/170 [==============================] - 0s 2ms/step - loss: 0.3966 - accuracy: 0.8083 - precision: 0.6165 - recall: 0.6155\n",
            "Epoch 17/20\n",
            "170/170 [==============================] - 0s 2ms/step - loss: 0.3966 - accuracy: 0.8091 - precision: 0.6184 - recall: 0.6155\n",
            "Epoch 18/20\n",
            "170/170 [==============================] - 0s 2ms/step - loss: 0.3966 - accuracy: 0.8089 - precision: 0.6182 - recall: 0.6146\n",
            "Epoch 19/20\n",
            "170/170 [==============================] - 0s 2ms/step - loss: 0.3966 - accuracy: 0.8092 - precision: 0.6190 - recall: 0.6143\n",
            "Epoch 20/20\n",
            "170/170 [==============================] - 0s 2ms/step - loss: 0.3966 - accuracy: 0.8095 - precision: 0.6197 - recall: 0.6146\n"
          ]
        },
        {
          "output_type": "display_data",
          "data": {
            "text/plain": [
              "<Figure size 432x288 with 1 Axes>"
            ],
            "image/png": "[encoded data removed]"
          },
          "metadata": {
            "needs_background": "light"
          }
        }
      ]
    },
    {
      "cell_type": "code",
      "metadata": {
        "id": "Ax87gOyDBhAu"
      },
      "source": [
        "#@title Double-click to view the solution for Task 3.\n",
        "\n",
        "# The following variables are the hyperparameters.\n",
        "learning_rate = 0.001\n",
        "epochs = 20\n",
        "batch_size = 100\n",
        "classification_threshold = 0.35\n",
        "label_name = \"median_house_value_is_high\"\n",
        "\n",
        "# Here is the updated definition of METRICS:\n",
        "METRICS = [\n",
        "      tf.keras.metrics.BinaryAccuracy(name='accuracy',\n",
        "                                      threshold=classification_threshold),\n",
        "      tf.keras.metrics.Precision(thresholds=classification_threshold,\n",
        "                                 name='precision'\n",
        "                                 ),\n",
        "      tf.keras.metrics.Recall(thresholds=classification_threshold,\n",
        "                              name=\"recall\"),\n",
        "]\n",
        "\n",
        "# Establish the model's topography.\n",
        "my_model = create_model(learning_rate, feature_layer, METRICS)\n",
        "\n",
        "# Train the model on the training set.\n",
        "epochs, hist = train_model(my_model, train_df_norm, epochs,\n",
        "                           label_name, batch_size)\n",
        "\n",
        "# Plot metrics vs. epochs\n",
        "list_of_metrics_to_plot = ['accuracy', \"precision\", \"recall\"]\n",
        "plot_curve(epochs, hist, list_of_metrics_to_plot)\n",
        "\n",
        "\n",
        "# The new graphs suggest that precision and recall are\n",
        "# somewhat in conflict. That is, improvements to one of\n",
        "# those metrics may hurt the other metric."
      ],
      "execution_count": null,
      "outputs": []
    },
    {
      "cell_type": "markdown",
      "metadata": {
        "id": "cAsB85iKSXLe"
      },
      "source": [
        "## Task 4: Experiment with the classification threshold (if time permits)\n",
        "\n",
        "Experiment with different values for `classification_threshold` in the code cell within \"Invoke the creating, training, and plotting functions.\"  What value of `classification_threshold` produces the highest accuracy?"
      ]
    },
    {
      "cell_type": "code",
      "metadata": {
        "id": "FLPDYI7Sphnj",
        "colab": {
          "base_uri": "https://localhost:8080/",
          "height": 1000
        },
        "outputId": "0fbddd9e-ef59-4029-ef48-94a273e03ebf"
      },
      "source": [
        "#@title Double-click to view the solution for Task 4.\n",
        "\n",
        "# The following variables are the hyperparameters.\n",
        "learning_rate = 0.001\n",
        "epochs = 20\n",
        "batch_size = 100\n",
        "classification_threshold = 0.52\n",
        "label_name = \"median_house_value_is_high\"\n",
        "\n",
        "# Here is the updated definition of METRICS:\n",
        "METRICS = [\n",
        "      tf.keras.metrics.BinaryAccuracy(name='accuracy',\n",
        "                                      threshold=classification_threshold),\n",
        "      tf.keras.metrics.Precision(thresholds=classification_threshold,\n",
        "                                 name='precision'\n",
        "                                 ),\n",
        "      tf.keras.metrics.Recall(thresholds=classification_threshold,\n",
        "                              name=\"recall\"),\n",
        "]\n",
        "\n",
        "# Establish the model's topography.\n",
        "my_model = create_model(learning_rate, feature_layer, METRICS)\n",
        "\n",
        "# Train the model on the training set.\n",
        "epochs, hist = train_model(my_model, train_df_norm, epochs,\n",
        "                           label_name, batch_size)\n",
        "\n",
        "# Plot metrics vs. epochs\n",
        "list_of_metrics_to_plot = ['accuracy', \"precision\", \"recall\"]\n",
        "plot_curve(epochs, hist, list_of_metrics_to_plot)\n",
        "\n",
        "# A `classification_threshold` of slightly over 0.5\n",
        "# appears to produce the highest accuracy (about 83%).\n",
        "# Raising the `classification_threshold` to 0.9 drops\n",
        "# accuracy by about 5%.  Lowering the\n",
        "# `classification_threshold` to 0.3 drops accuracy by\n",
        "# about 3%."
      ],
      "execution_count": null,
      "outputs": [
        {
          "output_type": "stream",
          "name": "stdout",
          "text": [
            "Epoch 1/20\n"
          ]
        },
        {
          "output_type": "stream",
          "name": "stderr",
          "text": [
            "/usr/local/lib/python3.8/dist-packages/keras/optimizers/optimizer_v2/rmsprop.py:135: UserWarning: The `lr` argument is deprecated, use `learning_rate` instead.\n",
            "  super(RMSprop, self).__init__(name, **kwargs)\n",
            "WARNING:tensorflow:Layers in a Sequential model should only have a single input tensor. Received: inputs={'longitude': <tf.Tensor 'IteratorGetNext:3' shape=(100,) dtype=float32>, 'latitude': <tf.Tensor 'IteratorGetNext:2' shape=(100,) dtype=float32>, 'housing_median_age': <tf.Tensor 'IteratorGetNext:1' shape=(100,) dtype=float32>, 'total_rooms': <tf.Tensor 'IteratorGetNext:8' shape=(100,) dtype=float32>, 'total_bedrooms': <tf.Tensor 'IteratorGetNext:7' shape=(100,) dtype=float32>, 'population': <tf.Tensor 'IteratorGetNext:6' shape=(100,) dtype=float32>, 'households': <tf.Tensor 'IteratorGetNext:0' shape=(100,) dtype=float32>, 'median_income': <tf.Tensor 'IteratorGetNext:5' shape=(100,) dtype=float32>, 'median_house_value': <tf.Tensor 'IteratorGetNext:4' shape=(100,) dtype=float32>}. Consider rewriting this model with the Functional API.\n",
            "WARNING:tensorflow:Layers in a Sequential model should only have a single input tensor. Received: inputs={'longitude': <tf.Tensor 'IteratorGetNext:3' shape=(100,) dtype=float32>, 'latitude': <tf.Tensor 'IteratorGetNext:2' shape=(100,) dtype=float32>, 'housing_median_age': <tf.Tensor 'IteratorGetNext:1' shape=(100,) dtype=float32>, 'total_rooms': <tf.Tensor 'IteratorGetNext:8' shape=(100,) dtype=float32>, 'total_bedrooms': <tf.Tensor 'IteratorGetNext:7' shape=(100,) dtype=float32>, 'population': <tf.Tensor 'IteratorGetNext:6' shape=(100,) dtype=float32>, 'households': <tf.Tensor 'IteratorGetNext:0' shape=(100,) dtype=float32>, 'median_income': <tf.Tensor 'IteratorGetNext:5' shape=(100,) dtype=float32>, 'median_house_value': <tf.Tensor 'IteratorGetNext:4' shape=(100,) dtype=float32>}. Consider rewriting this model with the Functional API.\n"
          ]
        },
        {
          "output_type": "stream",
          "name": "stdout",
          "text": [
            "170/170 [==============================] - 1s 2ms/step - loss: 1.2259 - accuracy: 0.3136 - precision: 0.0992 - recall: 0.2162\n",
            "Epoch 2/20\n",
            "170/170 [==============================] - 0s 2ms/step - loss: 1.0786 - accuracy: 0.3540 - precision: 0.0873 - recall: 0.1676\n",
            "Epoch 3/20\n",
            "170/170 [==============================] - 0s 2ms/step - loss: 0.9469 - accuracy: 0.4238 - precision: 0.0720 - recall: 0.1100\n",
            "Epoch 4/20\n",
            "170/170 [==============================] - 0s 2ms/step - loss: 0.8304 - accuracy: 0.5415 - precision: 0.0589 - recall: 0.0558\n",
            "Epoch 5/20\n",
            "170/170 [==============================] - 0s 2ms/step - loss: 0.7322 - accuracy: 0.6969 - precision: 0.0541 - recall: 0.0130\n",
            "Epoch 6/20\n",
            "170/170 [==============================] - 0s 2ms/step - loss: 0.6515 - accuracy: 0.7493 - precision: 0.0588 - recall: 2.3546e-04\n",
            "Epoch 7/20\n",
            "170/170 [==============================] - 0s 2ms/step - loss: 0.5876 - accuracy: 0.7502 - precision: 0.0000e+00 - recall: 0.0000e+00\n",
            "Epoch 8/20\n",
            "170/170 [==============================] - 0s 2ms/step - loss: 0.5370 - accuracy: 0.7508 - precision: 0.9167 - recall: 0.0026\n",
            "Epoch 9/20\n",
            "170/170 [==============================] - 0s 2ms/step - loss: 0.4978 - accuracy: 0.7603 - precision: 0.9886 - recall: 0.0410\n",
            "Epoch 10/20\n",
            "170/170 [==============================] - 0s 2ms/step - loss: 0.4695 - accuracy: 0.7759 - precision: 0.9720 - recall: 0.1062\n",
            "Epoch 11/20\n",
            "170/170 [==============================] - 0s 2ms/step - loss: 0.4483 - accuracy: 0.7961 - precision: 0.9525 - recall: 0.1935\n",
            "Epoch 12/20\n",
            "170/170 [==============================] - 0s 2ms/step - loss: 0.4324 - accuracy: 0.8109 - precision: 0.9293 - recall: 0.2630\n",
            "Epoch 13/20\n",
            "170/170 [==============================] - 0s 2ms/step - loss: 0.4204 - accuracy: 0.8236 - precision: 0.9105 - recall: 0.3259\n",
            "Epoch 14/20\n",
            "170/170 [==============================] - 0s 2ms/step - loss: 0.4114 - accuracy: 0.8318 - precision: 0.8800 - recall: 0.3781\n",
            "Epoch 15/20\n",
            "170/170 [==============================] - 0s 2ms/step - loss: 0.4054 - accuracy: 0.8332 - precision: 0.8444 - recall: 0.4076\n",
            "Epoch 16/20\n",
            "170/170 [==============================] - 0s 2ms/step - loss: 0.4015 - accuracy: 0.8349 - precision: 0.8264 - recall: 0.4292\n",
            "Epoch 17/20\n",
            "170/170 [==============================] - 0s 2ms/step - loss: 0.3993 - accuracy: 0.8361 - precision: 0.8104 - recall: 0.4488\n",
            "Epoch 18/20\n",
            "170/170 [==============================] - 0s 2ms/step - loss: 0.3981 - accuracy: 0.8358 - precision: 0.8033 - recall: 0.4537\n",
            "Epoch 19/20\n",
            "170/170 [==============================] - 0s 2ms/step - loss: 0.3974 - accuracy: 0.8361 - precision: 0.7989 - recall: 0.4594\n",
            "Epoch 20/20\n",
            "170/170 [==============================] - 0s 2ms/step - loss: 0.3970 - accuracy: 0.8369 - precision: 0.7946 - recall: 0.4681\n"
          ]
        },
        {
          "output_type": "display_data",
          "data": {
            "text/plain": [
              "<Figure size 432x288 with 1 Axes>"
            ],
            "image/png": "[encoded data removed]"
          },
          "metadata": {
            "needs_background": "light"
          }
        }
      ]
    },
    {
      "cell_type": "markdown",
      "metadata": {
        "id": "XBGRS0Ndduus"
      },
      "source": [
        "## Task 5: Summarize model performance (if time permits)\n",
        "\n",
        "If time permits, add one more metric that attempts to summarize the model's overall performance."
      ]
    },
    {
      "cell_type": "code",
      "metadata": {
        "id": "vwNE6syoFvWe",
        "cellView": "form",
        "colab": {
          "base_uri": "https://localhost:8080/",
          "height": 1000
        },
        "outputId": "30838a17-3697-42e2-936f-eb51abcb2eae"
      },
      "source": [
        "#@title Double-click to view the solution for Task 5.\n",
        "\n",
        "# The following variables are the hyperparameters.\n",
        "learning_rate = 0.001\n",
        "epochs = 20\n",
        "batch_size = 100\n",
        "label_name = \"median_house_value_is_high\"\n",
        "\n",
        "# AUC is a reasonable \"summary\" metric for\n",
        "# classification models.\n",
        "# Here is the updated definition of METRICS to\n",
        "# measure AUC:\n",
        "METRICS = [\n",
        "      tf.keras.metrics.AUC(num_thresholds=100, name='auc'),\n",
        "]\n",
        "\n",
        "# Establish the model's topography.\n",
        "my_model = create_model(learning_rate, feature_layer, METRICS)\n",
        "\n",
        "# Train the model on the training set.\n",
        "epochs, hist = train_model(my_model, train_df_norm, epochs,\n",
        "                           label_name, batch_size)\n",
        "\n",
        "# Plot metrics vs. epochs\n",
        "list_of_metrics_to_plot = ['auc']\n",
        "plot_curve(epochs, hist, list_of_metrics_to_plot)"
      ],
      "execution_count": null,
      "outputs": [
        {
          "output_type": "stream",
          "name": "stdout",
          "text": [
            "Epoch 1/20\n"
          ]
        },
        {
          "output_type": "stream",
          "name": "stderr",
          "text": [
            "/usr/local/lib/python3.8/dist-packages/keras/optimizers/optimizer_v2/rmsprop.py:135: UserWarning: The `lr` argument is deprecated, use `learning_rate` instead.\n",
            "  super(RMSprop, self).__init__(name, **kwargs)\n",
            "WARNING:tensorflow:Layers in a Sequential model should only have a single input tensor. Received: inputs={'longitude': <tf.Tensor 'IteratorGetNext:3' shape=(100,) dtype=float32>, 'latitude': <tf.Tensor 'IteratorGetNext:2' shape=(100,) dtype=float32>, 'housing_median_age': <tf.Tensor 'IteratorGetNext:1' shape=(100,) dtype=float32>, 'total_rooms': <tf.Tensor 'IteratorGetNext:8' shape=(100,) dtype=float32>, 'total_bedrooms': <tf.Tensor 'IteratorGetNext:7' shape=(100,) dtype=float32>, 'population': <tf.Tensor 'IteratorGetNext:6' shape=(100,) dtype=float32>, 'households': <tf.Tensor 'IteratorGetNext:0' shape=(100,) dtype=float32>, 'median_income': <tf.Tensor 'IteratorGetNext:5' shape=(100,) dtype=float32>, 'median_house_value': <tf.Tensor 'IteratorGetNext:4' shape=(100,) dtype=float32>}. Consider rewriting this model with the Functional API.\n",
            "WARNING:tensorflow:Layers in a Sequential model should only have a single input tensor. Received: inputs={'longitude': <tf.Tensor 'IteratorGetNext:3' shape=(100,) dtype=float32>, 'latitude': <tf.Tensor 'IteratorGetNext:2' shape=(100,) dtype=float32>, 'housing_median_age': <tf.Tensor 'IteratorGetNext:1' shape=(100,) dtype=float32>, 'total_rooms': <tf.Tensor 'IteratorGetNext:8' shape=(100,) dtype=float32>, 'total_bedrooms': <tf.Tensor 'IteratorGetNext:7' shape=(100,) dtype=float32>, 'population': <tf.Tensor 'IteratorGetNext:6' shape=(100,) dtype=float32>, 'households': <tf.Tensor 'IteratorGetNext:0' shape=(100,) dtype=float32>, 'median_income': <tf.Tensor 'IteratorGetNext:5' shape=(100,) dtype=float32>, 'median_house_value': <tf.Tensor 'IteratorGetNext:4' shape=(100,) dtype=float32>}. Consider rewriting this model with the Functional API.\n"
          ]
        },
        {
          "output_type": "stream",
          "name": "stdout",
          "text": [
            "170/170 [==============================] - 1s 2ms/step - loss: 1.0525 - auc: 0.2370\n",
            "Epoch 2/20\n",
            "170/170 [==============================] - 0s 2ms/step - loss: 0.9478 - auc: 0.2432\n",
            "Epoch 3/20\n",
            "170/170 [==============================] - 0s 2ms/step - loss: 0.8534 - auc: 0.2510\n",
            "Epoch 4/20\n",
            "170/170 [==============================] - 0s 2ms/step - loss: 0.7703 - auc: 0.2615\n",
            "Epoch 5/20\n",
            "170/170 [==============================] - 0s 2ms/step - loss: 0.6994 - auc: 0.2816\n",
            "Epoch 6/20\n",
            "170/170 [==============================] - 0s 2ms/step - loss: 0.6391 - auc: 0.3242\n",
            "Epoch 7/20\n",
            "170/170 [==============================] - 0s 2ms/step - loss: 0.5894 - auc: 0.4304\n",
            "Epoch 8/20\n",
            "170/170 [==============================] - 0s 2ms/step - loss: 0.5483 - auc: 0.6611\n",
            "Epoch 9/20\n",
            "170/170 [==============================] - 0s 2ms/step - loss: 0.5132 - auc: 0.7824\n",
            "Epoch 10/20\n",
            "170/170 [==============================] - 0s 2ms/step - loss: 0.4844 - auc: 0.8146\n",
            "Epoch 11/20\n",
            "170/170 [==============================] - 0s 2ms/step - loss: 0.4610 - auc: 0.8265\n",
            "Epoch 12/20\n",
            "170/170 [==============================] - 0s 2ms/step - loss: 0.4426 - auc: 0.8314\n",
            "Epoch 13/20\n",
            "170/170 [==============================] - 0s 2ms/step - loss: 0.4278 - auc: 0.8341\n",
            "Epoch 14/20\n",
            "170/170 [==============================] - 0s 2ms/step - loss: 0.4171 - auc: 0.8352\n",
            "Epoch 15/20\n",
            "170/170 [==============================] - 0s 2ms/step - loss: 0.4092 - auc: 0.8357\n",
            "Epoch 16/20\n",
            "170/170 [==============================] - 0s 2ms/step - loss: 0.4039 - auc: 0.8364\n",
            "Epoch 17/20\n",
            "170/170 [==============================] - 0s 2ms/step - loss: 0.4006 - auc: 0.8365\n",
            "Epoch 18/20\n",
            "170/170 [==============================] - 0s 2ms/step - loss: 0.3988 - auc: 0.8366\n",
            "Epoch 19/20\n",
            "170/170 [==============================] - 0s 2ms/step - loss: 0.3977 - auc: 0.8367\n",
            "Epoch 20/20\n",
            "170/170 [==============================] - 0s 2ms/step - loss: 0.3972 - auc: 0.8368\n"
          ]
        },
        {
          "output_type": "display_data",
          "data": {
            "text/plain": [
              "<Figure size 432x288 with 1 Axes>"
            ],
            "image/png": "[encoded data removed]"
          },
          "metadata": {
            "needs_background": "light"
          }
        }
      ]
    }
  ]
}
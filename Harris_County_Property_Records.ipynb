{
  "cells": [
    {
      "cell_type": "markdown",
      "metadata": {
        "id": "view-in-github",
        "colab_type": "text"
      },
      "source": [
        "<a href=\"https://colab.research.google.com/github/admulkay/admulkay/blob/main/Harris_County_Property_Records.ipynb\" target=\"_parent\"><img src=\"https://colab.research.google.com/assets/colab-badge.svg\" alt=\"Open In Colab\"/></a>"
      ]
    },
    {
      "cell_type": "markdown",
      "metadata": {
        "id": "BbXgPLACsDvp"
      },
      "source": [
        "...\n",
        "wordset = np.genfromtxt(fname='ownership_history.txt')\n",
        "path=\"/content/drive/MyDrive/ownership_history.txt\"\n",
        "df=pd.read_txt(path)\n",
        "print(type(df))"
      ]
    },
    {
      "cell_type": "code",
      "execution_count": null,
      "metadata": {
        "colab": {
          "background_save": true
        },
        "id": "Gwt4LMqed9hL",
        "outputId": "59532f50-099c-479d-9d9f-72130be4604b"
      },
      "outputs": [
        {
          "name": "stdout",
          "output_type": "stream",
          "text": [
            "Drive already mounted at /content/drive; to attempt to forcibly remount, call drive.mount(\"/content/drive\", force_remount=True).\n"
          ]
        }
      ],
      "source": [
        "\n",
        "import pandas as pd\n",
        "import numpy as np\n",
        "from pathlib import Path\n",
        "from google.colab import drive\n",
        "drive.mount('/content/drive')"
      ]
    },
    {
      "cell_type": "markdown",
      "metadata": {
        "id": "9rp9q9X855Qz"
      },
      "source": [
        "from pathlib import Path\n",
        "\n",
        "# Example: Accessing a file in your \"My Drive\" folder\n",
        "file_path = Path(\"/content/drive/MyDrive/ownership_history.txt\")\n",
        "\n",
        "if file_path.exists():\n",
        "    contents = file_path.read_text()\n",
        "    print(contents)\n",
        "else:\n",
        "    print(f\"File not found: {file_path}\")"
      ]
    },
    {
      "cell_type": "code",
      "execution_count": null,
      "metadata": {
        "colab": {
          "base_uri": "https://localhost:8080/"
        },
        "id": "_0B-NKNJ6wPy",
        "outputId": "f3cf1491-e66e-4349-9be0-be17525e6283"
      },
      "outputs": [
        {
          "name": "stdout",
          "output_type": "stream",
          "text": [
            "File not found: /content/drive/MyDrive/Ownership_history_all_time.txt\n"
          ]
        }
      ],
      "source": [
        "\n",
        "\n",
        "# Example: Accessing a file in your \"My Drive\" folder\n",
        "file_path = Path(\"/content/drive/MyDrive/Ownership_history_all_time.txt\")\n",
        "\n",
        "if file_path.exists():\n",
        "    contents = file_path.read_text()\n",
        "    print(contents)\n",
        "else:\n",
        "    print(f\"File not found: {file_path}\")"
      ]
    },
    {
      "cell_type": "markdown",
      "metadata": {
        "id": "ovdldAKH6dmo"
      },
      "source": [
        "from pathlib import Path\n",
        "\n",
        "# Example: Accessing a file in your \"My Drive\" folder\n",
        "file_path = Path(\"/content/drive/MyDrive/ownership_history.txt\")\n",
        "\n",
        "if file_path.exists():\n",
        "    contents = file_path.read_text()\n",
        "    print(contents)\n",
        "else:\n",
        "    print(f\"File not found: {file_path}\")"
      ]
    },
    {
      "cell_type": "markdown",
      "metadata": {
        "id": "IXgz_mlor-bY"
      },
      "source": [
        "from pathlib import Path\n",
        "contents = Path(file_path).read_text()"
      ]
    },
    {
      "cell_type": "markdown",
      "metadata": {
        "id": "UzNLGyVMwM2e"
      },
      "source": []
    },
    {
      "cell_type": "markdown",
      "metadata": {
        "id": "7iYYhs5wpT0N"
      },
      "source": [
        "df=pd.read_txt('ownership_history')\n"
      ]
    },
    {
      "cell_type": "markdown",
      "metadata": {
        "id": "66_WW8dQnhjU"
      },
      "source": [
        "import pandas as pd\n",
        "data = {'name' :"
      ]
    }
  ],
  "metadata": {
    "colab": {
      "provenance": [],
      "mount_file_id": "19b2aROjWb-Qbp5fc70ZN2PrPtOJe6Umz",
      "authorship_tag": "ABX9TyPuLf2N1twsDti5iX1+MIhG",
      "include_colab_link": true
    },
    "kernelspec": {
      "display_name": "Python 3",
      "name": "python3"
    },
    "language_info": {
      "name": "python"
    }
  },
  "nbformat": 4,
  "nbformat_minor": 0
}
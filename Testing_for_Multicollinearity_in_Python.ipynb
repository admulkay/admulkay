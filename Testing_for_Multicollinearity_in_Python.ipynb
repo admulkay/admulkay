{
  "nbformat": 4,
  "nbformat_minor": 0,
  "metadata": {
    "colab": {
      "provenance": [],
      "authorship_tag": "ABX9TyPPenuaVarE9fJHaHOIni9d",
      "include_colab_link": true
    },
    "kernelspec": {
      "name": "python3",
      "display_name": "Python 3"
    },
    "language_info": {
      "name": "python"
    }
  },
  "cells": [
    {
      "cell_type": "markdown",
      "metadata": {
        "id": "view-in-github",
        "colab_type": "text"
      },
      "source": [
        "<a href=\"https://colab.research.google.com/github/admulkay/admulkay/blob/main/Testing_for_Multicollinearity_in_Python.ipynb\" target=\"_parent\"><img src=\"https://colab.research.google.com/assets/colab-badge.svg\" alt=\"Open In Colab\"/></a>"
      ]
    },
    {
      "cell_type": "code",
      "execution_count": null,
      "metadata": {
        "id": "yANejo3QO4-b"
      },
      "outputs": [],
      "source": [
        "                                                                                                                                                                                                                                                                                                                                                                                          import pandas as pd"
      ]
    },
    {
      "cell_type": "code",
      "source": [
        "#create DataFrame\n",
        "df = pd.DataFrame({'rating':[90, 85, 82, 88, 94, 90, 76, 75, 87, 86],\n",
        "                  'points':[25, 20, 14, 16, 27, 20, 12, 15, 14, 19],\n",
        "                  'assists':[5, 7, 7, 8, 5, 7, 6, 9, 9, 5],\n",
        "                  'rebounds':[11, 8, 10, 6, 6, 9, 6, 10, 10, 7]})"
      ],
      "metadata": {
        "id": "M1oKNda5PA-V"
      },
      "execution_count": null,
      "outputs": []
    },
    {
      "cell_type": "code",
      "source": [
        "#view DataFrame\n",
        "print(df)"
      ],
      "metadata": {
        "colab": {
          "base_uri": "https://localhost:8080/"
        },
        "id": "66iR9cCnQcTW",
        "outputId": "a38ab13a-2808-46fa-ca0b-712489bc8e42"
      },
      "execution_count": null,
      "outputs": [
        {
          "output_type": "stream",
          "name": "stdout",
          "text": [
            "   rating  points  assists  rebounds\n",
            "0      90      25        5        11\n",
            "1      85      20        7         8\n",
            "2      82      14        7        10\n",
            "3      88      16        8         6\n",
            "4      94      27        5         6\n",
            "5      90      20        7         9\n",
            "6      76      12        6         6\n",
            "7      75      15        9        10\n",
            "8      87      14        9        10\n",
            "9      86      19        5         7\n"
          ]
        }
      ]
    }
  ]
}